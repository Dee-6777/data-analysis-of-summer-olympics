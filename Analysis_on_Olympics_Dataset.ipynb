{
  "nbformat": 4,
  "nbformat_minor": 0,
  "metadata": {
    "colab": {
      "name": "Analysis on Olympics Dataset.ipynb",
      "provenance": [],
      "collapsed_sections": [],
      "toc_visible": true,
      "include_colab_link": true
    },
    "kernelspec": {
      "name": "python3",
      "display_name": "Python 3"
    },
    "language_info": {
      "name": "python"
    }
  },
  "cells": [
    {
      "cell_type": "markdown",
      "metadata": {
        "id": "view-in-github",
        "colab_type": "text"
      },
      "source": [
        "<a href=\"https://colab.research.google.com/github/Dee-6777/data-analysis-of-summer-olympics/blob/main/Analysis_on_Olympics_Dataset.ipynb\" target=\"_parent\"><img src=\"https://colab.research.google.com/assets/colab-badge.svg\" alt=\"Open In Colab\"/></a>"
      ]
    },
    {
      "cell_type": "markdown",
      "metadata": {
        "id": "xWWjEo1jM0Oo"
      },
      "source": [
        "# Importing the libraries"
      ]
    },
    {
      "cell_type": "code",
      "metadata": {
        "id": "dyOoj8EaM3mc"
      },
      "source": [
        "import numpy as np\n",
        "\n",
        "import pandas as pd\n",
        "\n",
        "import matplotlib.pyplot as plt\n",
        "\n",
        "import seaborn as sns\n",
        "\n",
        "import re"
      ],
      "execution_count": null,
      "outputs": []
    },
    {
      "cell_type": "markdown",
      "metadata": {
        "id": "zCiOC55uLAiU"
      },
      "source": [
        "Dataset\n",
        "\n",
        "NOC: https://drive.google.com/file/d/1_zGhADzXEA9mFHvuCvpllXMCN2DUE2tH/view?usp=sharing\n",
        "\n",
        "Athlete: https://drive.google.com/file/d/1y6e0eNKfyo9ILqQHszcrRuv3uQhIMm_z/view?usp=sharing"
      ]
    },
    {
      "cell_type": "markdown",
      "metadata": {
        "id": "4yT0moZxNp3V"
      },
      "source": [
        "# Reading the dataset"
      ]
    },
    {
      "cell_type": "code",
      "metadata": {
        "id": "1wGyrhrcKoWH"
      },
      "source": [
        "athlete = pd.read_csv('/content/drive/MyDrive/ShapeAI DST 11021 Oct-Jan Batch 2021-22/Datasets/athlete_events.csv')\n",
        "noc = pd.read_csv('/content/drive/MyDrive/ShapeAI DST 11021 Oct-Jan Batch 2021-22/Datasets/noc_regions.csv')"
      ],
      "execution_count": null,
      "outputs": []
    },
    {
      "cell_type": "markdown",
      "metadata": {
        "id": "GzcRCsdQNtEH"
      },
      "source": [
        "# Creating a copy of the DataFrame"
      ]
    },
    {
      "cell_type": "code",
      "metadata": {
        "id": "k04ZuTuBNG6H"
      },
      "source": [
        "ath = athlete.copy()\n",
        "cou = countries.copy()"
      ],
      "execution_count": null,
      "outputs": []
    },
    {
      "cell_type": "markdown",
      "metadata": {
        "id": "qqHCykIsN7bV"
      },
      "source": [
        "# Data Exploration"
      ]
    },
    {
      "cell_type": "code",
      "metadata": {
        "colab": {
          "base_uri": "https://localhost:8080/",
          "height": 452
        },
        "id": "HKj5rsbXNG8X",
        "outputId": "8b63d664-e4b0-4f16-afad-6f655b158698"
      },
      "source": [
        "ath.head()"
      ],
      "execution_count": null,
      "outputs": [
        {
          "output_type": "execute_result",
          "data": {
            "text/html": [
              "<div>\n",
              "<style scoped>\n",
              "    .dataframe tbody tr th:only-of-type {\n",
              "        vertical-align: middle;\n",
              "    }\n",
              "\n",
              "    .dataframe tbody tr th {\n",
              "        vertical-align: top;\n",
              "    }\n",
              "\n",
              "    .dataframe thead th {\n",
              "        text-align: right;\n",
              "    }\n",
              "</style>\n",
              "<table border=\"1\" class=\"dataframe\">\n",
              "  <thead>\n",
              "    <tr style=\"text-align: right;\">\n",
              "      <th></th>\n",
              "      <th>ID</th>\n",
              "      <th>Name</th>\n",
              "      <th>Gender</th>\n",
              "      <th>Age</th>\n",
              "      <th>Height</th>\n",
              "      <th>Weight</th>\n",
              "      <th>Team</th>\n",
              "      <th>NOC</th>\n",
              "      <th>Games</th>\n",
              "      <th>Year</th>\n",
              "      <th>Season</th>\n",
              "      <th>City</th>\n",
              "      <th>Sport</th>\n",
              "      <th>Event</th>\n",
              "      <th>Medal</th>\n",
              "    </tr>\n",
              "  </thead>\n",
              "  <tbody>\n",
              "    <tr>\n",
              "      <th>0</th>\n",
              "      <td>1</td>\n",
              "      <td>A Dijiang</td>\n",
              "      <td>M</td>\n",
              "      <td>24.0</td>\n",
              "      <td>180.0</td>\n",
              "      <td>80.0</td>\n",
              "      <td>China</td>\n",
              "      <td>CHN</td>\n",
              "      <td>1992 Summer</td>\n",
              "      <td>1992</td>\n",
              "      <td>Summer</td>\n",
              "      <td>Barcelona</td>\n",
              "      <td>Basketball</td>\n",
              "      <td>Basketball Men's Basketball</td>\n",
              "      <td>NaN</td>\n",
              "    </tr>\n",
              "    <tr>\n",
              "      <th>1</th>\n",
              "      <td>2</td>\n",
              "      <td>A Lamusi</td>\n",
              "      <td>M</td>\n",
              "      <td>23.0</td>\n",
              "      <td>170.0</td>\n",
              "      <td>60.0</td>\n",
              "      <td>China</td>\n",
              "      <td>CHN</td>\n",
              "      <td>2012 Summer</td>\n",
              "      <td>2012</td>\n",
              "      <td>Summer</td>\n",
              "      <td>London</td>\n",
              "      <td>Judo</td>\n",
              "      <td>Judo Men's Extra-Lightweight</td>\n",
              "      <td>NaN</td>\n",
              "    </tr>\n",
              "    <tr>\n",
              "      <th>2</th>\n",
              "      <td>3</td>\n",
              "      <td>Gunnar Nielsen Aaby</td>\n",
              "      <td>M</td>\n",
              "      <td>24.0</td>\n",
              "      <td>NaN</td>\n",
              "      <td>NaN</td>\n",
              "      <td>Denmark</td>\n",
              "      <td>DEN</td>\n",
              "      <td>1920 Summer</td>\n",
              "      <td>1920</td>\n",
              "      <td>Summer</td>\n",
              "      <td>Antwerpen</td>\n",
              "      <td>Football</td>\n",
              "      <td>Football Men's Football</td>\n",
              "      <td>NaN</td>\n",
              "    </tr>\n",
              "    <tr>\n",
              "      <th>3</th>\n",
              "      <td>4</td>\n",
              "      <td>Edgar Lindenau Aabye</td>\n",
              "      <td>M</td>\n",
              "      <td>34.0</td>\n",
              "      <td>NaN</td>\n",
              "      <td>NaN</td>\n",
              "      <td>Denmark/Sweden</td>\n",
              "      <td>DEN</td>\n",
              "      <td>1900 Summer</td>\n",
              "      <td>1900</td>\n",
              "      <td>Summer</td>\n",
              "      <td>Paris</td>\n",
              "      <td>Tug-Of-War</td>\n",
              "      <td>Tug-Of-War Men's Tug-Of-War</td>\n",
              "      <td>Gold</td>\n",
              "    </tr>\n",
              "    <tr>\n",
              "      <th>4</th>\n",
              "      <td>5</td>\n",
              "      <td>Christine Jacoba Aaftink</td>\n",
              "      <td>F</td>\n",
              "      <td>21.0</td>\n",
              "      <td>185.0</td>\n",
              "      <td>82.0</td>\n",
              "      <td>Netherlands</td>\n",
              "      <td>NED</td>\n",
              "      <td>1988 Winter</td>\n",
              "      <td>1988</td>\n",
              "      <td>Winter</td>\n",
              "      <td>Calgary</td>\n",
              "      <td>Speed Skating</td>\n",
              "      <td>Speed Skating Women's 500 metres</td>\n",
              "      <td>NaN</td>\n",
              "    </tr>\n",
              "  </tbody>\n",
              "</table>\n",
              "</div>"
            ],
            "text/plain": [
              "   ID                      Name  ...                             Event  Medal\n",
              "0   1                 A Dijiang  ...       Basketball Men's Basketball    NaN\n",
              "1   2                  A Lamusi  ...      Judo Men's Extra-Lightweight    NaN\n",
              "2   3       Gunnar Nielsen Aaby  ...           Football Men's Football    NaN\n",
              "3   4      Edgar Lindenau Aabye  ...       Tug-Of-War Men's Tug-Of-War   Gold\n",
              "4   5  Christine Jacoba Aaftink  ...  Speed Skating Women's 500 metres    NaN\n",
              "\n",
              "[5 rows x 15 columns]"
            ]
          },
          "metadata": {},
          "execution_count": 14
        }
      ]
    },
    {
      "cell_type": "code",
      "metadata": {
        "colab": {
          "base_uri": "https://localhost:8080/",
          "height": 504
        },
        "id": "cZvH5aloNG_z",
        "outputId": "c050ecfc-0f67-4b64-d123-7e3388ef28c9"
      },
      "source": [
        "ath.tail()"
      ],
      "execution_count": null,
      "outputs": [
        {
          "output_type": "execute_result",
          "data": {
            "text/html": [
              "<div>\n",
              "<style scoped>\n",
              "    .dataframe tbody tr th:only-of-type {\n",
              "        vertical-align: middle;\n",
              "    }\n",
              "\n",
              "    .dataframe tbody tr th {\n",
              "        vertical-align: top;\n",
              "    }\n",
              "\n",
              "    .dataframe thead th {\n",
              "        text-align: right;\n",
              "    }\n",
              "</style>\n",
              "<table border=\"1\" class=\"dataframe\">\n",
              "  <thead>\n",
              "    <tr style=\"text-align: right;\">\n",
              "      <th></th>\n",
              "      <th>ID</th>\n",
              "      <th>Name</th>\n",
              "      <th>Gender</th>\n",
              "      <th>Age</th>\n",
              "      <th>Height</th>\n",
              "      <th>Weight</th>\n",
              "      <th>Team</th>\n",
              "      <th>NOC</th>\n",
              "      <th>Games</th>\n",
              "      <th>Year</th>\n",
              "      <th>Season</th>\n",
              "      <th>City</th>\n",
              "      <th>Sport</th>\n",
              "      <th>Event</th>\n",
              "      <th>Medal</th>\n",
              "    </tr>\n",
              "  </thead>\n",
              "  <tbody>\n",
              "    <tr>\n",
              "      <th>271111</th>\n",
              "      <td>135569</td>\n",
              "      <td>Andrzej ya</td>\n",
              "      <td>M</td>\n",
              "      <td>29.0</td>\n",
              "      <td>179.0</td>\n",
              "      <td>89.0</td>\n",
              "      <td>Poland-1</td>\n",
              "      <td>POL</td>\n",
              "      <td>1976 Winter</td>\n",
              "      <td>1976</td>\n",
              "      <td>Winter</td>\n",
              "      <td>Innsbruck</td>\n",
              "      <td>Luge</td>\n",
              "      <td>Luge Mixed (Men)'s Doubles</td>\n",
              "      <td>NaN</td>\n",
              "    </tr>\n",
              "    <tr>\n",
              "      <th>271112</th>\n",
              "      <td>135570</td>\n",
              "      <td>Piotr ya</td>\n",
              "      <td>M</td>\n",
              "      <td>27.0</td>\n",
              "      <td>176.0</td>\n",
              "      <td>59.0</td>\n",
              "      <td>Poland</td>\n",
              "      <td>POL</td>\n",
              "      <td>2014 Winter</td>\n",
              "      <td>2014</td>\n",
              "      <td>Winter</td>\n",
              "      <td>Sochi</td>\n",
              "      <td>Ski Jumping</td>\n",
              "      <td>Ski Jumping Men's Large Hill, Individual</td>\n",
              "      <td>NaN</td>\n",
              "    </tr>\n",
              "    <tr>\n",
              "      <th>271113</th>\n",
              "      <td>135570</td>\n",
              "      <td>Piotr ya</td>\n",
              "      <td>M</td>\n",
              "      <td>27.0</td>\n",
              "      <td>176.0</td>\n",
              "      <td>59.0</td>\n",
              "      <td>Poland</td>\n",
              "      <td>POL</td>\n",
              "      <td>2014 Winter</td>\n",
              "      <td>2014</td>\n",
              "      <td>Winter</td>\n",
              "      <td>Sochi</td>\n",
              "      <td>Ski Jumping</td>\n",
              "      <td>Ski Jumping Men's Large Hill, Team</td>\n",
              "      <td>NaN</td>\n",
              "    </tr>\n",
              "    <tr>\n",
              "      <th>271114</th>\n",
              "      <td>135571</td>\n",
              "      <td>Tomasz Ireneusz ya</td>\n",
              "      <td>M</td>\n",
              "      <td>30.0</td>\n",
              "      <td>185.0</td>\n",
              "      <td>96.0</td>\n",
              "      <td>Poland</td>\n",
              "      <td>POL</td>\n",
              "      <td>1998 Winter</td>\n",
              "      <td>1998</td>\n",
              "      <td>Winter</td>\n",
              "      <td>Nagano</td>\n",
              "      <td>Bobsleigh</td>\n",
              "      <td>Bobsleigh Men's Four</td>\n",
              "      <td>NaN</td>\n",
              "    </tr>\n",
              "    <tr>\n",
              "      <th>271115</th>\n",
              "      <td>135571</td>\n",
              "      <td>Tomasz Ireneusz ya</td>\n",
              "      <td>M</td>\n",
              "      <td>34.0</td>\n",
              "      <td>185.0</td>\n",
              "      <td>96.0</td>\n",
              "      <td>Poland</td>\n",
              "      <td>POL</td>\n",
              "      <td>2002 Winter</td>\n",
              "      <td>2002</td>\n",
              "      <td>Winter</td>\n",
              "      <td>Salt Lake City</td>\n",
              "      <td>Bobsleigh</td>\n",
              "      <td>Bobsleigh Men's Four</td>\n",
              "      <td>NaN</td>\n",
              "    </tr>\n",
              "  </tbody>\n",
              "</table>\n",
              "</div>"
            ],
            "text/plain": [
              "            ID  ... Medal\n",
              "271111  135569  ...   NaN\n",
              "271112  135570  ...   NaN\n",
              "271113  135570  ...   NaN\n",
              "271114  135571  ...   NaN\n",
              "271115  135571  ...   NaN\n",
              "\n",
              "[5 rows x 15 columns]"
            ]
          },
          "metadata": {},
          "execution_count": 15
        }
      ]
    },
    {
      "cell_type": "code",
      "metadata": {
        "colab": {
          "base_uri": "https://localhost:8080/"
        },
        "id": "49gwlAU3NHCA",
        "outputId": "8e6d1c36-1c55-4982-9c57-0b37f83d3be2"
      },
      "source": [
        "ath.shape"
      ],
      "execution_count": null,
      "outputs": [
        {
          "output_type": "execute_result",
          "data": {
            "text/plain": [
              "(271116, 15)"
            ]
          },
          "metadata": {},
          "execution_count": 16
        }
      ]
    },
    {
      "cell_type": "code",
      "metadata": {
        "colab": {
          "base_uri": "https://localhost:8080/",
          "height": 206
        },
        "id": "Vikq-5vWNHIm",
        "outputId": "26a90272-203b-4f24-93e2-91ec302e3182"
      },
      "source": [
        "countries.head()"
      ],
      "execution_count": null,
      "outputs": [
        {
          "output_type": "execute_result",
          "data": {
            "text/html": [
              "<div>\n",
              "<style scoped>\n",
              "    .dataframe tbody tr th:only-of-type {\n",
              "        vertical-align: middle;\n",
              "    }\n",
              "\n",
              "    .dataframe tbody tr th {\n",
              "        vertical-align: top;\n",
              "    }\n",
              "\n",
              "    .dataframe thead th {\n",
              "        text-align: right;\n",
              "    }\n",
              "</style>\n",
              "<table border=\"1\" class=\"dataframe\">\n",
              "  <thead>\n",
              "    <tr style=\"text-align: right;\">\n",
              "      <th></th>\n",
              "      <th>NOC</th>\n",
              "      <th>region</th>\n",
              "      <th>notes</th>\n",
              "    </tr>\n",
              "  </thead>\n",
              "  <tbody>\n",
              "    <tr>\n",
              "      <th>0</th>\n",
              "      <td>AFG</td>\n",
              "      <td>Afghanistan</td>\n",
              "      <td>NaN</td>\n",
              "    </tr>\n",
              "    <tr>\n",
              "      <th>1</th>\n",
              "      <td>AHO</td>\n",
              "      <td>Curacao</td>\n",
              "      <td>Netherlands Antilles</td>\n",
              "    </tr>\n",
              "    <tr>\n",
              "      <th>2</th>\n",
              "      <td>ALB</td>\n",
              "      <td>Albania</td>\n",
              "      <td>NaN</td>\n",
              "    </tr>\n",
              "    <tr>\n",
              "      <th>3</th>\n",
              "      <td>ALG</td>\n",
              "      <td>Algeria</td>\n",
              "      <td>NaN</td>\n",
              "    </tr>\n",
              "    <tr>\n",
              "      <th>4</th>\n",
              "      <td>AND</td>\n",
              "      <td>Andorra</td>\n",
              "      <td>NaN</td>\n",
              "    </tr>\n",
              "  </tbody>\n",
              "</table>\n",
              "</div>"
            ],
            "text/plain": [
              "   NOC       region                 notes\n",
              "0  AFG  Afghanistan                   NaN\n",
              "1  AHO      Curacao  Netherlands Antilles\n",
              "2  ALB      Albania                   NaN\n",
              "3  ALG      Algeria                   NaN\n",
              "4  AND      Andorra                   NaN"
            ]
          },
          "metadata": {},
          "execution_count": 17
        }
      ]
    },
    {
      "cell_type": "code",
      "metadata": {
        "colab": {
          "base_uri": "https://localhost:8080/",
          "height": 206
        },
        "id": "8J-GwkB8NHNQ",
        "outputId": "b0bada48-3c64-41f8-a920-1d735e3fcd01"
      },
      "source": [
        "countries.tail()"
      ],
      "execution_count": null,
      "outputs": [
        {
          "output_type": "execute_result",
          "data": {
            "text/html": [
              "<div>\n",
              "<style scoped>\n",
              "    .dataframe tbody tr th:only-of-type {\n",
              "        vertical-align: middle;\n",
              "    }\n",
              "\n",
              "    .dataframe tbody tr th {\n",
              "        vertical-align: top;\n",
              "    }\n",
              "\n",
              "    .dataframe thead th {\n",
              "        text-align: right;\n",
              "    }\n",
              "</style>\n",
              "<table border=\"1\" class=\"dataframe\">\n",
              "  <thead>\n",
              "    <tr style=\"text-align: right;\">\n",
              "      <th></th>\n",
              "      <th>NOC</th>\n",
              "      <th>region</th>\n",
              "      <th>notes</th>\n",
              "    </tr>\n",
              "  </thead>\n",
              "  <tbody>\n",
              "    <tr>\n",
              "      <th>225</th>\n",
              "      <td>YEM</td>\n",
              "      <td>Yemen</td>\n",
              "      <td>NaN</td>\n",
              "    </tr>\n",
              "    <tr>\n",
              "      <th>226</th>\n",
              "      <td>YMD</td>\n",
              "      <td>Yemen</td>\n",
              "      <td>South Yemen</td>\n",
              "    </tr>\n",
              "    <tr>\n",
              "      <th>227</th>\n",
              "      <td>YUG</td>\n",
              "      <td>Serbia</td>\n",
              "      <td>Yugoslavia</td>\n",
              "    </tr>\n",
              "    <tr>\n",
              "      <th>228</th>\n",
              "      <td>ZAM</td>\n",
              "      <td>Zambia</td>\n",
              "      <td>NaN</td>\n",
              "    </tr>\n",
              "    <tr>\n",
              "      <th>229</th>\n",
              "      <td>ZIM</td>\n",
              "      <td>Zimbabwe</td>\n",
              "      <td>NaN</td>\n",
              "    </tr>\n",
              "  </tbody>\n",
              "</table>\n",
              "</div>"
            ],
            "text/plain": [
              "     NOC    region        notes\n",
              "225  YEM     Yemen          NaN\n",
              "226  YMD     Yemen  South Yemen\n",
              "227  YUG    Serbia   Yugoslavia\n",
              "228  ZAM    Zambia          NaN\n",
              "229  ZIM  Zimbabwe          NaN"
            ]
          },
          "metadata": {},
          "execution_count": 18
        }
      ]
    },
    {
      "cell_type": "code",
      "metadata": {
        "colab": {
          "base_uri": "https://localhost:8080/"
        },
        "id": "czf7Jb3zNHTE",
        "outputId": "39d6a6a3-9891-4b3f-cd23-fac4146c2d8c"
      },
      "source": [
        "countries.shape"
      ],
      "execution_count": null,
      "outputs": [
        {
          "output_type": "execute_result",
          "data": {
            "text/plain": [
              "(230, 3)"
            ]
          },
          "metadata": {},
          "execution_count": 20
        }
      ]
    },
    {
      "cell_type": "code",
      "metadata": {
        "colab": {
          "base_uri": "https://localhost:8080/"
        },
        "id": "ryAxbfUONHYJ",
        "outputId": "9bcecb8c-5d7f-4b8b-d6dd-20c01272b47e"
      },
      "source": [
        "ath.info()"
      ],
      "execution_count": null,
      "outputs": [
        {
          "output_type": "stream",
          "name": "stdout",
          "text": [
            "<class 'pandas.core.frame.DataFrame'>\n",
            "RangeIndex: 271116 entries, 0 to 271115\n",
            "Data columns (total 15 columns):\n",
            " #   Column  Non-Null Count   Dtype  \n",
            "---  ------  --------------   -----  \n",
            " 0   ID      271116 non-null  int64  \n",
            " 1   Name    271116 non-null  object \n",
            " 2   Gender  271116 non-null  object \n",
            " 3   Age     261642 non-null  float64\n",
            " 4   Height  210945 non-null  float64\n",
            " 5   Weight  208241 non-null  float64\n",
            " 6   Team    271116 non-null  object \n",
            " 7   NOC     271116 non-null  object \n",
            " 8   Games   271116 non-null  object \n",
            " 9   Year    271116 non-null  int64  \n",
            " 10  Season  271116 non-null  object \n",
            " 11  City    271116 non-null  object \n",
            " 12  Sport   271116 non-null  object \n",
            " 13  Event   271116 non-null  object \n",
            " 14  Medal   39783 non-null   object \n",
            "dtypes: float64(3), int64(2), object(10)\n",
            "memory usage: 31.0+ MB\n"
          ]
        }
      ]
    },
    {
      "cell_type": "code",
      "metadata": {
        "colab": {
          "base_uri": "https://localhost:8080/"
        },
        "id": "3afh0ZXxNHba",
        "outputId": "2e6caede-ac94-4a34-e3c1-ff3d2ce52d20"
      },
      "source": [
        "countries.info()"
      ],
      "execution_count": null,
      "outputs": [
        {
          "output_type": "stream",
          "name": "stdout",
          "text": [
            "<class 'pandas.core.frame.DataFrame'>\n",
            "RangeIndex: 230 entries, 0 to 229\n",
            "Data columns (total 3 columns):\n",
            " #   Column  Non-Null Count  Dtype \n",
            "---  ------  --------------  ----- \n",
            " 0   NOC     230 non-null    object\n",
            " 1   region  227 non-null    object\n",
            " 2   notes   21 non-null     object\n",
            "dtypes: object(3)\n",
            "memory usage: 5.5+ KB\n"
          ]
        }
      ]
    },
    {
      "cell_type": "code",
      "metadata": {
        "colab": {
          "base_uri": "https://localhost:8080/"
        },
        "id": "T8FM2j6hNHgp",
        "outputId": "dafac31d-0905-4306-fa6e-c300c7c5cccf"
      },
      "source": [
        "ath.isnull().sum()"
      ],
      "execution_count": null,
      "outputs": [
        {
          "output_type": "execute_result",
          "data": {
            "text/plain": [
              "ID             0\n",
              "Name           0\n",
              "Gender         0\n",
              "Age         9474\n",
              "Height     60171\n",
              "Weight     62875\n",
              "Team           0\n",
              "NOC            0\n",
              "Games          0\n",
              "Year           0\n",
              "Season         0\n",
              "City           0\n",
              "Sport          0\n",
              "Event          0\n",
              "Medal     231333\n",
              "dtype: int64"
            ]
          },
          "metadata": {},
          "execution_count": 23
        }
      ]
    },
    {
      "cell_type": "code",
      "metadata": {
        "colab": {
          "base_uri": "https://localhost:8080/"
        },
        "id": "zybdxlUCNHkz",
        "outputId": "9d6c6048-ce54-408c-de54-5956ab4a2951"
      },
      "source": [
        "# Find out the ratio of null and not null value in the Medal column\n",
        "# ath.Medal.isnull().sum()/ath.Medal.notnull().sum()\n",
        "print(f'{ath.Medal.isnull().sum()}:{ath.Medal.notnull().sum()}')\n",
        "print(ath.Medal.isnull().sum(),\":\",ath.Medal.notnull().sum())"
      ],
      "execution_count": null,
      "outputs": [
        {
          "output_type": "stream",
          "name": "stdout",
          "text": [
            "231333:39783\n",
            "231333 : 39783\n"
          ]
        }
      ]
    },
    {
      "cell_type": "code",
      "metadata": {
        "id": "X8y-11FWNHqW"
      },
      "source": [
        "name = input()\n",
        "print(f'Hello, my name is {name}')"
      ],
      "execution_count": null,
      "outputs": []
    },
    {
      "cell_type": "code",
      "metadata": {
        "colab": {
          "base_uri": "https://localhost:8080/"
        },
        "id": "UpnsBjT0NHwE",
        "outputId": "1a309d39-7684-4122-c2e5-7697e40aac33"
      },
      "source": [
        "countries.isnull().sum()"
      ],
      "execution_count": null,
      "outputs": [
        {
          "output_type": "execute_result",
          "data": {
            "text/plain": [
              "NOC         0\n",
              "region      3\n",
              "notes     209\n",
              "dtype: int64"
            ]
          },
          "metadata": {},
          "execution_count": 30
        }
      ]
    },
    {
      "cell_type": "markdown",
      "metadata": {
        "id": "BMIEz2cTVADW"
      },
      "source": [
        "# Data Cleaning & Data Manipulation"
      ]
    },
    {
      "cell_type": "markdown",
      "metadata": {
        "id": "EYb_j6hGVFe7"
      },
      "source": [
        "1. Find all the rows (Datpoints) in the countries DataFrame where region is NaN"
      ]
    },
    {
      "cell_type": "code",
      "metadata": {
        "colab": {
          "base_uri": "https://localhost:8080/",
          "height": 143
        },
        "id": "u1Rq142rNH1S",
        "outputId": "68bd885c-d88b-4d24-c8ad-82d13a686d40"
      },
      "source": [
        "countries[countries['region'].isnull()]"
      ],
      "execution_count": null,
      "outputs": [
        {
          "output_type": "execute_result",
          "data": {
            "text/html": [
              "<div>\n",
              "<style scoped>\n",
              "    .dataframe tbody tr th:only-of-type {\n",
              "        vertical-align: middle;\n",
              "    }\n",
              "\n",
              "    .dataframe tbody tr th {\n",
              "        vertical-align: top;\n",
              "    }\n",
              "\n",
              "    .dataframe thead th {\n",
              "        text-align: right;\n",
              "    }\n",
              "</style>\n",
              "<table border=\"1\" class=\"dataframe\">\n",
              "  <thead>\n",
              "    <tr style=\"text-align: right;\">\n",
              "      <th></th>\n",
              "      <th>NOC</th>\n",
              "      <th>region</th>\n",
              "      <th>notes</th>\n",
              "    </tr>\n",
              "  </thead>\n",
              "  <tbody>\n",
              "    <tr>\n",
              "      <th>168</th>\n",
              "      <td>ROT</td>\n",
              "      <td>NaN</td>\n",
              "      <td>Refugee Olympic Team</td>\n",
              "    </tr>\n",
              "    <tr>\n",
              "      <th>208</th>\n",
              "      <td>TUV</td>\n",
              "      <td>NaN</td>\n",
              "      <td>Tuvalu</td>\n",
              "    </tr>\n",
              "    <tr>\n",
              "      <th>213</th>\n",
              "      <td>UNK</td>\n",
              "      <td>NaN</td>\n",
              "      <td>Unknown</td>\n",
              "    </tr>\n",
              "  </tbody>\n",
              "</table>\n",
              "</div>"
            ],
            "text/plain": [
              "     NOC region                 notes\n",
              "168  ROT    NaN  Refugee Olympic Team\n",
              "208  TUV    NaN                Tuvalu\n",
              "213  UNK    NaN               Unknown"
            ]
          },
          "metadata": {},
          "execution_count": 32
        }
      ]
    },
    {
      "cell_type": "code",
      "metadata": {
        "id": "qL8gVxkcNH6y"
      },
      "source": [
        "# Show all the rows from the athlete DataFrame where region is \"ROT\", \"TUV\" or \"UNK\"\n",
        "\n",
        "# ?"
      ],
      "execution_count": null,
      "outputs": []
    },
    {
      "cell_type": "markdown",
      "metadata": {
        "id": "arN4yuagXpGP"
      },
      "source": [
        "Q. Add a column \"Region\" to the \"ath\" Dataframe. And the region column should have the region according to the elements in the \"NOC\" column of the \"countries\" DataFrame."
      ]
    },
    {
      "cell_type": "code",
      "metadata": {
        "colab": {
          "base_uri": "https://localhost:8080/"
        },
        "id": "X9_XxmtMNIBN",
        "outputId": "f7ca09e2-4a68-44c8-fd20-b2174184a0cf"
      },
      "source": [
        "ath.columns"
      ],
      "execution_count": null,
      "outputs": [
        {
          "output_type": "execute_result",
          "data": {
            "text/plain": [
              "Index(['ID', 'Name', 'Gender', 'Age', 'Height', 'Weight', 'Team', 'NOC',\n",
              "       'Games', 'Year', 'Season', 'City', 'Sport', 'Event', 'Medal'],\n",
              "      dtype='object')"
            ]
          },
          "metadata": {},
          "execution_count": 36
        }
      ]
    },
    {
      "cell_type": "code",
      "metadata": {
        "colab": {
          "base_uri": "https://localhost:8080/"
        },
        "id": "OrB6AsLIZtWD",
        "outputId": "55fb7975-9bb4-43ab-a712-64b5e68d30fd"
      },
      "source": [
        "countries.columns"
      ],
      "execution_count": null,
      "outputs": [
        {
          "output_type": "execute_result",
          "data": {
            "text/plain": [
              "Index(['NOC', 'region', 'notes'], dtype='object')"
            ]
          },
          "metadata": {},
          "execution_count": 37
        }
      ]
    },
    {
      "cell_type": "code",
      "metadata": {
        "id": "V8PfOpkENID5"
      },
      "source": [
        "region = ath['NOC'].map(countries.set_index('NOC')['region'])"
      ],
      "execution_count": null,
      "outputs": []
    },
    {
      "cell_type": "code",
      "metadata": {
        "colab": {
          "base_uri": "https://localhost:8080/"
        },
        "id": "TgQVYQX_NIMZ",
        "outputId": "a713d92b-8657-433e-e025-7880b1fef096"
      },
      "source": [
        "region"
      ],
      "execution_count": null,
      "outputs": [
        {
          "output_type": "execute_result",
          "data": {
            "text/plain": [
              "0               China\n",
              "1               China\n",
              "2             Denmark\n",
              "3             Denmark\n",
              "4         Netherlands\n",
              "             ...     \n",
              "271111         Poland\n",
              "271112         Poland\n",
              "271113         Poland\n",
              "271114         Poland\n",
              "271115         Poland\n",
              "Name: NOC, Length: 271116, dtype: object"
            ]
          },
          "metadata": {},
          "execution_count": 40
        }
      ]
    },
    {
      "cell_type": "code",
      "metadata": {
        "id": "K80LbhmENIQN"
      },
      "source": [
        "ath.insert(7,'Region', region)"
      ],
      "execution_count": null,
      "outputs": []
    },
    {
      "cell_type": "code",
      "metadata": {
        "colab": {
          "base_uri": "https://localhost:8080/"
        },
        "id": "xuBLbC64NIUa",
        "outputId": "8e461784-72c5-46d2-9770-1f38885fbaf6"
      },
      "source": [
        "ath.columns"
      ],
      "execution_count": null,
      "outputs": [
        {
          "output_type": "execute_result",
          "data": {
            "text/plain": [
              "Index(['ID', 'Name', 'Gender', 'Age', 'Height', 'Weight', 'Team', 'Region',\n",
              "       'NOC', 'Games', 'Year', 'Season', 'City', 'Sport', 'Event', 'Medal'],\n",
              "      dtype='object')"
            ]
          },
          "metadata": {},
          "execution_count": 42
        }
      ]
    },
    {
      "cell_type": "code",
      "metadata": {
        "colab": {
          "base_uri": "https://localhost:8080/",
          "height": 219
        },
        "id": "iRw5PvwGNIXd",
        "outputId": "c587a731-3119-4e09-f1fe-92e75b135a35"
      },
      "source": [
        "ath.head(2)"
      ],
      "execution_count": null,
      "outputs": [
        {
          "output_type": "execute_result",
          "data": {
            "text/html": [
              "<div>\n",
              "<style scoped>\n",
              "    .dataframe tbody tr th:only-of-type {\n",
              "        vertical-align: middle;\n",
              "    }\n",
              "\n",
              "    .dataframe tbody tr th {\n",
              "        vertical-align: top;\n",
              "    }\n",
              "\n",
              "    .dataframe thead th {\n",
              "        text-align: right;\n",
              "    }\n",
              "</style>\n",
              "<table border=\"1\" class=\"dataframe\">\n",
              "  <thead>\n",
              "    <tr style=\"text-align: right;\">\n",
              "      <th></th>\n",
              "      <th>ID</th>\n",
              "      <th>Name</th>\n",
              "      <th>Gender</th>\n",
              "      <th>Age</th>\n",
              "      <th>Height</th>\n",
              "      <th>Weight</th>\n",
              "      <th>Team</th>\n",
              "      <th>Region</th>\n",
              "      <th>NOC</th>\n",
              "      <th>Games</th>\n",
              "      <th>Year</th>\n",
              "      <th>Season</th>\n",
              "      <th>City</th>\n",
              "      <th>Sport</th>\n",
              "      <th>Event</th>\n",
              "      <th>Medal</th>\n",
              "    </tr>\n",
              "  </thead>\n",
              "  <tbody>\n",
              "    <tr>\n",
              "      <th>0</th>\n",
              "      <td>1</td>\n",
              "      <td>A Dijiang</td>\n",
              "      <td>M</td>\n",
              "      <td>24.0</td>\n",
              "      <td>180.0</td>\n",
              "      <td>80.0</td>\n",
              "      <td>China</td>\n",
              "      <td>China</td>\n",
              "      <td>CHN</td>\n",
              "      <td>1992 Summer</td>\n",
              "      <td>1992</td>\n",
              "      <td>Summer</td>\n",
              "      <td>Barcelona</td>\n",
              "      <td>Basketball</td>\n",
              "      <td>Basketball Men's Basketball</td>\n",
              "      <td>NaN</td>\n",
              "    </tr>\n",
              "    <tr>\n",
              "      <th>1</th>\n",
              "      <td>2</td>\n",
              "      <td>A Lamusi</td>\n",
              "      <td>M</td>\n",
              "      <td>23.0</td>\n",
              "      <td>170.0</td>\n",
              "      <td>60.0</td>\n",
              "      <td>China</td>\n",
              "      <td>China</td>\n",
              "      <td>CHN</td>\n",
              "      <td>2012 Summer</td>\n",
              "      <td>2012</td>\n",
              "      <td>Summer</td>\n",
              "      <td>London</td>\n",
              "      <td>Judo</td>\n",
              "      <td>Judo Men's Extra-Lightweight</td>\n",
              "      <td>NaN</td>\n",
              "    </tr>\n",
              "  </tbody>\n",
              "</table>\n",
              "</div>"
            ],
            "text/plain": [
              "   ID       Name Gender  ...       Sport                         Event  Medal\n",
              "0   1  A Dijiang      M  ...  Basketball   Basketball Men's Basketball    NaN\n",
              "1   2   A Lamusi      M  ...        Judo  Judo Men's Extra-Lightweight    NaN\n",
              "\n",
              "[2 rows x 16 columns]"
            ]
          },
          "metadata": {},
          "execution_count": 43
        }
      ]
    },
    {
      "cell_type": "code",
      "metadata": {
        "id": "lHbvYVjFNIYo"
      },
      "source": [
        "# Delete the NOC column from \"ath\" DataFrame\n",
        "\n",
        "ath.drop('NOC', axis=1, inplace=True)"
      ],
      "execution_count": null,
      "outputs": []
    },
    {
      "cell_type": "code",
      "metadata": {
        "colab": {
          "base_uri": "https://localhost:8080/",
          "height": 135
        },
        "id": "LUWELoG4NIcY",
        "outputId": "0f8033e0-316e-4b57-ef23-abf35dc541b3"
      },
      "source": [
        "ath.head(1)"
      ],
      "execution_count": null,
      "outputs": [
        {
          "output_type": "execute_result",
          "data": {
            "text/html": [
              "<div>\n",
              "<style scoped>\n",
              "    .dataframe tbody tr th:only-of-type {\n",
              "        vertical-align: middle;\n",
              "    }\n",
              "\n",
              "    .dataframe tbody tr th {\n",
              "        vertical-align: top;\n",
              "    }\n",
              "\n",
              "    .dataframe thead th {\n",
              "        text-align: right;\n",
              "    }\n",
              "</style>\n",
              "<table border=\"1\" class=\"dataframe\">\n",
              "  <thead>\n",
              "    <tr style=\"text-align: right;\">\n",
              "      <th></th>\n",
              "      <th>ID</th>\n",
              "      <th>Name</th>\n",
              "      <th>Gender</th>\n",
              "      <th>Age</th>\n",
              "      <th>Height</th>\n",
              "      <th>Weight</th>\n",
              "      <th>Team</th>\n",
              "      <th>Region</th>\n",
              "      <th>Games</th>\n",
              "      <th>Year</th>\n",
              "      <th>Season</th>\n",
              "      <th>City</th>\n",
              "      <th>Sport</th>\n",
              "      <th>Event</th>\n",
              "      <th>Medal</th>\n",
              "    </tr>\n",
              "  </thead>\n",
              "  <tbody>\n",
              "    <tr>\n",
              "      <th>0</th>\n",
              "      <td>1</td>\n",
              "      <td>A Dijiang</td>\n",
              "      <td>M</td>\n",
              "      <td>24.0</td>\n",
              "      <td>180.0</td>\n",
              "      <td>80.0</td>\n",
              "      <td>China</td>\n",
              "      <td>China</td>\n",
              "      <td>1992 Summer</td>\n",
              "      <td>1992</td>\n",
              "      <td>Summer</td>\n",
              "      <td>Barcelona</td>\n",
              "      <td>Basketball</td>\n",
              "      <td>Basketball Men's Basketball</td>\n",
              "      <td>NaN</td>\n",
              "    </tr>\n",
              "  </tbody>\n",
              "</table>\n",
              "</div>"
            ],
            "text/plain": [
              "   ID       Name Gender  ...       Sport                        Event  Medal\n",
              "0   1  A Dijiang      M  ...  Basketball  Basketball Men's Basketball    NaN\n",
              "\n",
              "[1 rows x 15 columns]"
            ]
          },
          "metadata": {},
          "execution_count": 46
        }
      ]
    },
    {
      "cell_type": "markdown",
      "metadata": {
        "id": "rd-Wm0v8adjZ"
      },
      "source": [
        "Handling the null values in the columns - \"Age\", \"Height\", \"Weight\" (from the ath DataFrame)"
      ]
    },
    {
      "cell_type": "code",
      "metadata": {
        "colab": {
          "base_uri": "https://localhost:8080/"
        },
        "id": "T4MziZAXNIh3",
        "outputId": "1e194f97-549f-43ca-b461-286f7e063e78"
      },
      "source": [
        "# Find the minimum Age\n",
        "ath.Age.min()"
      ],
      "execution_count": null,
      "outputs": [
        {
          "output_type": "execute_result",
          "data": {
            "text/plain": [
              "10.0"
            ]
          },
          "metadata": {},
          "execution_count": 47
        }
      ]
    },
    {
      "cell_type": "code",
      "metadata": {
        "colab": {
          "base_uri": "https://localhost:8080/"
        },
        "id": "6hIFJiL-NInf",
        "outputId": "bc52cd9c-196a-4e81-f157-a8c9be0e5726"
      },
      "source": [
        "ath.Age.max()"
      ],
      "execution_count": null,
      "outputs": [
        {
          "output_type": "execute_result",
          "data": {
            "text/plain": [
              "97.0"
            ]
          },
          "metadata": {},
          "execution_count": 48
        }
      ]
    },
    {
      "cell_type": "code",
      "metadata": {
        "colab": {
          "base_uri": "https://localhost:8080/"
        },
        "id": "i1dd82heNIr8",
        "outputId": "95c2fee6-0945-4c42-cbc9-19c5c253eb4c"
      },
      "source": [
        "ath.Age.describe()"
      ],
      "execution_count": null,
      "outputs": [
        {
          "output_type": "execute_result",
          "data": {
            "text/plain": [
              "count    261642.000000\n",
              "mean         25.556898\n",
              "std           6.393561\n",
              "min          10.000000\n",
              "25%          21.000000\n",
              "50%          24.000000\n",
              "75%          28.000000\n",
              "max          97.000000\n",
              "Name: Age, dtype: float64"
            ]
          },
          "metadata": {},
          "execution_count": 49
        }
      ]
    },
    {
      "cell_type": "code",
      "metadata": {
        "id": "mI01MSd6NIyu"
      },
      "source": [
        "# Fill all the NaN values with the mean value of the Age column\n",
        "ath['Age'].fillna(ath.Age.mean(), inplace=True)"
      ],
      "execution_count": null,
      "outputs": []
    },
    {
      "cell_type": "code",
      "metadata": {
        "id": "pqHxAH0rNI3v"
      },
      "source": [
        "ath.Age = ath.Age.astype('int')"
      ],
      "execution_count": null,
      "outputs": []
    },
    {
      "cell_type": "code",
      "metadata": {
        "colab": {
          "base_uri": "https://localhost:8080/"
        },
        "id": "3seOc0KmNI9B",
        "outputId": "ba372d18-3812-480f-ea19-3a019fd5103c"
      },
      "source": [
        "ath.Age"
      ],
      "execution_count": null,
      "outputs": [
        {
          "output_type": "execute_result",
          "data": {
            "text/plain": [
              "0         24\n",
              "1         23\n",
              "2         24\n",
              "3         34\n",
              "4         21\n",
              "          ..\n",
              "271111    29\n",
              "271112    27\n",
              "271113    27\n",
              "271114    30\n",
              "271115    34\n",
              "Name: Age, Length: 271116, dtype: int64"
            ]
          },
          "metadata": {},
          "execution_count": 54
        }
      ]
    },
    {
      "cell_type": "code",
      "metadata": {
        "colab": {
          "base_uri": "https://localhost:8080/",
          "height": 219
        },
        "id": "HaVCwnx6NJAC",
        "outputId": "8acc2e98-fd53-4f3b-f822-7b094a4b5679"
      },
      "source": [
        "ath.head(2)"
      ],
      "execution_count": null,
      "outputs": [
        {
          "output_type": "execute_result",
          "data": {
            "text/html": [
              "<div>\n",
              "<style scoped>\n",
              "    .dataframe tbody tr th:only-of-type {\n",
              "        vertical-align: middle;\n",
              "    }\n",
              "\n",
              "    .dataframe tbody tr th {\n",
              "        vertical-align: top;\n",
              "    }\n",
              "\n",
              "    .dataframe thead th {\n",
              "        text-align: right;\n",
              "    }\n",
              "</style>\n",
              "<table border=\"1\" class=\"dataframe\">\n",
              "  <thead>\n",
              "    <tr style=\"text-align: right;\">\n",
              "      <th></th>\n",
              "      <th>ID</th>\n",
              "      <th>Name</th>\n",
              "      <th>Gender</th>\n",
              "      <th>Age</th>\n",
              "      <th>Height</th>\n",
              "      <th>Weight</th>\n",
              "      <th>Team</th>\n",
              "      <th>Region</th>\n",
              "      <th>Games</th>\n",
              "      <th>Year</th>\n",
              "      <th>Season</th>\n",
              "      <th>City</th>\n",
              "      <th>Sport</th>\n",
              "      <th>Event</th>\n",
              "      <th>Medal</th>\n",
              "    </tr>\n",
              "  </thead>\n",
              "  <tbody>\n",
              "    <tr>\n",
              "      <th>0</th>\n",
              "      <td>1</td>\n",
              "      <td>A Dijiang</td>\n",
              "      <td>M</td>\n",
              "      <td>24</td>\n",
              "      <td>180.0</td>\n",
              "      <td>80.0</td>\n",
              "      <td>China</td>\n",
              "      <td>China</td>\n",
              "      <td>1992 Summer</td>\n",
              "      <td>1992</td>\n",
              "      <td>Summer</td>\n",
              "      <td>Barcelona</td>\n",
              "      <td>Basketball</td>\n",
              "      <td>Basketball Men's Basketball</td>\n",
              "      <td>NaN</td>\n",
              "    </tr>\n",
              "    <tr>\n",
              "      <th>1</th>\n",
              "      <td>2</td>\n",
              "      <td>A Lamusi</td>\n",
              "      <td>M</td>\n",
              "      <td>23</td>\n",
              "      <td>170.0</td>\n",
              "      <td>60.0</td>\n",
              "      <td>China</td>\n",
              "      <td>China</td>\n",
              "      <td>2012 Summer</td>\n",
              "      <td>2012</td>\n",
              "      <td>Summer</td>\n",
              "      <td>London</td>\n",
              "      <td>Judo</td>\n",
              "      <td>Judo Men's Extra-Lightweight</td>\n",
              "      <td>NaN</td>\n",
              "    </tr>\n",
              "  </tbody>\n",
              "</table>\n",
              "</div>"
            ],
            "text/plain": [
              "   ID       Name Gender  ...       Sport                         Event  Medal\n",
              "0   1  A Dijiang      M  ...  Basketball   Basketball Men's Basketball    NaN\n",
              "1   2   A Lamusi      M  ...        Judo  Judo Men's Extra-Lightweight    NaN\n",
              "\n",
              "[2 rows x 15 columns]"
            ]
          },
          "metadata": {},
          "execution_count": 55
        }
      ]
    },
    {
      "cell_type": "code",
      "metadata": {
        "colab": {
          "base_uri": "https://localhost:8080/"
        },
        "id": "ih4b5y6zNJDn",
        "outputId": "e9c53800-44c0-4b6e-b433-9d5207e0052a"
      },
      "source": [
        "ath.info()"
      ],
      "execution_count": null,
      "outputs": [
        {
          "output_type": "stream",
          "name": "stdout",
          "text": [
            "<class 'pandas.core.frame.DataFrame'>\n",
            "RangeIndex: 271116 entries, 0 to 271115\n",
            "Data columns (total 15 columns):\n",
            " #   Column  Non-Null Count   Dtype  \n",
            "---  ------  --------------   -----  \n",
            " 0   ID      271116 non-null  int64  \n",
            " 1   Name    271116 non-null  object \n",
            " 2   Gender  271116 non-null  object \n",
            " 3   Age     271116 non-null  int64  \n",
            " 4   Height  210945 non-null  float64\n",
            " 5   Weight  208241 non-null  float64\n",
            " 6   Team    271116 non-null  object \n",
            " 7   Region  270746 non-null  object \n",
            " 8   Games   271116 non-null  object \n",
            " 9   Year    271116 non-null  int64  \n",
            " 10  Season  271116 non-null  object \n",
            " 11  City    271116 non-null  object \n",
            " 12  Sport   271116 non-null  object \n",
            " 13  Event   271116 non-null  object \n",
            " 14  Medal   39783 non-null   object \n",
            "dtypes: float64(2), int64(3), object(10)\n",
            "memory usage: 31.0+ MB\n"
          ]
        }
      ]
    },
    {
      "cell_type": "code",
      "metadata": {
        "colab": {
          "base_uri": "https://localhost:8080/"
        },
        "id": "rV6_m9phNJJ-",
        "outputId": "4475e47d-e3c9-4738-fcac-5ef09ad3af82"
      },
      "source": [
        "ath.Height.describe()"
      ],
      "execution_count": null,
      "outputs": [
        {
          "output_type": "execute_result",
          "data": {
            "text/plain": [
              "count    210945.000000\n",
              "mean        175.338970\n",
              "std          10.518462\n",
              "min         127.000000\n",
              "25%         168.000000\n",
              "50%         175.000000\n",
              "75%         183.000000\n",
              "max         226.000000\n",
              "Name: Height, dtype: float64"
            ]
          },
          "metadata": {},
          "execution_count": 57
        }
      ]
    },
    {
      "cell_type": "code",
      "metadata": {
        "colab": {
          "base_uri": "https://localhost:8080/"
        },
        "id": "TPkHYts9NJWB",
        "outputId": "d6f96e0e-1b2c-45bc-ee70-783694430b74"
      },
      "source": [
        "ath.Weight.describe()"
      ],
      "execution_count": null,
      "outputs": [
        {
          "output_type": "execute_result",
          "data": {
            "text/plain": [
              "count    208241.000000\n",
              "mean         70.702393\n",
              "std          14.348020\n",
              "min          25.000000\n",
              "25%          60.000000\n",
              "50%          70.000000\n",
              "75%          79.000000\n",
              "max         214.000000\n",
              "Name: Weight, dtype: float64"
            ]
          },
          "metadata": {},
          "execution_count": 59
        }
      ]
    },
    {
      "cell_type": "code",
      "metadata": {
        "id": "vHKrz1ENNJQw"
      },
      "source": [
        "ath.Height = ath.Height.fillna(ath.Height.mean())\n",
        "ath.Weight = ath.Weight.fillna(ath.Weight.mean())"
      ],
      "execution_count": null,
      "outputs": []
    },
    {
      "cell_type": "code",
      "metadata": {
        "id": "u4j69mxANJaD"
      },
      "source": [
        "ath.Height = ath.Height.astype('int')\n",
        "ath.Weight = ath.Weight.astype('int')"
      ],
      "execution_count": null,
      "outputs": []
    },
    {
      "cell_type": "code",
      "metadata": {
        "colab": {
          "base_uri": "https://localhost:8080/"
        },
        "id": "bYX9lhmzNJfy",
        "outputId": "7596c554-e21e-4887-e739-0a7c309ae49c"
      },
      "source": [
        "ath.info()"
      ],
      "execution_count": null,
      "outputs": [
        {
          "output_type": "stream",
          "name": "stdout",
          "text": [
            "<class 'pandas.core.frame.DataFrame'>\n",
            "RangeIndex: 271116 entries, 0 to 271115\n",
            "Data columns (total 15 columns):\n",
            " #   Column  Non-Null Count   Dtype \n",
            "---  ------  --------------   ----- \n",
            " 0   ID      271116 non-null  int64 \n",
            " 1   Name    271116 non-null  object\n",
            " 2   Gender  271116 non-null  object\n",
            " 3   Age     271116 non-null  int64 \n",
            " 4   Height  271116 non-null  int64 \n",
            " 5   Weight  271116 non-null  int64 \n",
            " 6   Team    271116 non-null  object\n",
            " 7   Region  270746 non-null  object\n",
            " 8   Games   271116 non-null  object\n",
            " 9   Year    271116 non-null  int64 \n",
            " 10  Season  271116 non-null  object\n",
            " 11  City    271116 non-null  object\n",
            " 12  Sport   271116 non-null  object\n",
            " 13  Event   271116 non-null  object\n",
            " 14  Medal   39783 non-null   object\n",
            "dtypes: int64(5), object(10)\n",
            "memory usage: 31.0+ MB\n"
          ]
        }
      ]
    },
    {
      "cell_type": "markdown",
      "metadata": {
        "id": "U-bjSIjyfQL4"
      },
      "source": [
        "List out all the values of the region columns where the values are null"
      ]
    },
    {
      "cell_type": "code",
      "metadata": {
        "colab": {
          "base_uri": "https://localhost:8080/",
          "height": 894
        },
        "id": "pC7YiRNhNJie",
        "outputId": "2d240e57-b8ee-4aa0-f694-73f8dfd568c6"
      },
      "source": [
        "ath[ath.Region.isnull()]"
      ],
      "execution_count": null,
      "outputs": [
        {
          "output_type": "execute_result",
          "data": {
            "text/html": [
              "<div>\n",
              "<style scoped>\n",
              "    .dataframe tbody tr th:only-of-type {\n",
              "        vertical-align: middle;\n",
              "    }\n",
              "\n",
              "    .dataframe tbody tr th {\n",
              "        vertical-align: top;\n",
              "    }\n",
              "\n",
              "    .dataframe thead th {\n",
              "        text-align: right;\n",
              "    }\n",
              "</style>\n",
              "<table border=\"1\" class=\"dataframe\">\n",
              "  <thead>\n",
              "    <tr style=\"text-align: right;\">\n",
              "      <th></th>\n",
              "      <th>ID</th>\n",
              "      <th>Name</th>\n",
              "      <th>Gender</th>\n",
              "      <th>Age</th>\n",
              "      <th>Height</th>\n",
              "      <th>Weight</th>\n",
              "      <th>Team</th>\n",
              "      <th>Region</th>\n",
              "      <th>Games</th>\n",
              "      <th>Year</th>\n",
              "      <th>Season</th>\n",
              "      <th>City</th>\n",
              "      <th>Sport</th>\n",
              "      <th>Event</th>\n",
              "      <th>Medal</th>\n",
              "    </tr>\n",
              "  </thead>\n",
              "  <tbody>\n",
              "    <tr>\n",
              "      <th>578</th>\n",
              "      <td>332</td>\n",
              "      <td>Zarinah Abdullah</td>\n",
              "      <td>F</td>\n",
              "      <td>21</td>\n",
              "      <td>175</td>\n",
              "      <td>70</td>\n",
              "      <td>Singapore</td>\n",
              "      <td>NaN</td>\n",
              "      <td>1992 Summer</td>\n",
              "      <td>1992</td>\n",
              "      <td>Summer</td>\n",
              "      <td>Barcelona</td>\n",
              "      <td>Badminton</td>\n",
              "      <td>Badminton Women's Singles</td>\n",
              "      <td>NaN</td>\n",
              "    </tr>\n",
              "    <tr>\n",
              "      <th>579</th>\n",
              "      <td>332</td>\n",
              "      <td>Zarinah Abdullah</td>\n",
              "      <td>F</td>\n",
              "      <td>25</td>\n",
              "      <td>175</td>\n",
              "      <td>70</td>\n",
              "      <td>Singapore</td>\n",
              "      <td>NaN</td>\n",
              "      <td>1996 Summer</td>\n",
              "      <td>1996</td>\n",
              "      <td>Summer</td>\n",
              "      <td>Atlanta</td>\n",
              "      <td>Badminton</td>\n",
              "      <td>Badminton Women's Singles</td>\n",
              "      <td>NaN</td>\n",
              "    </tr>\n",
              "    <tr>\n",
              "      <th>2719</th>\n",
              "      <td>1515</td>\n",
              "      <td>Saiyidah Aisyah Mohamed Rafa'ee</td>\n",
              "      <td>F</td>\n",
              "      <td>28</td>\n",
              "      <td>173</td>\n",
              "      <td>68</td>\n",
              "      <td>Singapore</td>\n",
              "      <td>NaN</td>\n",
              "      <td>2016 Summer</td>\n",
              "      <td>2016</td>\n",
              "      <td>Summer</td>\n",
              "      <td>Rio de Janeiro</td>\n",
              "      <td>Rowing</td>\n",
              "      <td>Rowing Women's Single Sculls</td>\n",
              "      <td>NaN</td>\n",
              "    </tr>\n",
              "    <tr>\n",
              "      <th>6267</th>\n",
              "      <td>3515</td>\n",
              "      <td>Paulo Amotun Lokoro</td>\n",
              "      <td>M</td>\n",
              "      <td>24</td>\n",
              "      <td>170</td>\n",
              "      <td>61</td>\n",
              "      <td>Refugee Olympic Athletes</td>\n",
              "      <td>NaN</td>\n",
              "      <td>2016 Summer</td>\n",
              "      <td>2016</td>\n",
              "      <td>Summer</td>\n",
              "      <td>Rio de Janeiro</td>\n",
              "      <td>Athletics</td>\n",
              "      <td>Athletics Men's 1,500 metres</td>\n",
              "      <td>NaN</td>\n",
              "    </tr>\n",
              "    <tr>\n",
              "      <th>7659</th>\n",
              "      <td>4264</td>\n",
              "      <td>Ang Peng Siong</td>\n",
              "      <td>M</td>\n",
              "      <td>21</td>\n",
              "      <td>180</td>\n",
              "      <td>75</td>\n",
              "      <td>Singapore</td>\n",
              "      <td>NaN</td>\n",
              "      <td>1984 Summer</td>\n",
              "      <td>1984</td>\n",
              "      <td>Summer</td>\n",
              "      <td>Los Angeles</td>\n",
              "      <td>Swimming</td>\n",
              "      <td>Swimming Men's 100 metres Freestyle</td>\n",
              "      <td>NaN</td>\n",
              "    </tr>\n",
              "    <tr>\n",
              "      <th>...</th>\n",
              "      <td>...</td>\n",
              "      <td>...</td>\n",
              "      <td>...</td>\n",
              "      <td>...</td>\n",
              "      <td>...</td>\n",
              "      <td>...</td>\n",
              "      <td>...</td>\n",
              "      <td>...</td>\n",
              "      <td>...</td>\n",
              "      <td>...</td>\n",
              "      <td>...</td>\n",
              "      <td>...</td>\n",
              "      <td>...</td>\n",
              "      <td>...</td>\n",
              "      <td>...</td>\n",
              "    </tr>\n",
              "    <tr>\n",
              "      <th>268752</th>\n",
              "      <td>134454</td>\n",
              "      <td>Zhang Guirong</td>\n",
              "      <td>F</td>\n",
              "      <td>26</td>\n",
              "      <td>182</td>\n",
              "      <td>95</td>\n",
              "      <td>Singapore</td>\n",
              "      <td>NaN</td>\n",
              "      <td>2004 Summer</td>\n",
              "      <td>2004</td>\n",
              "      <td>Summer</td>\n",
              "      <td>Athina</td>\n",
              "      <td>Athletics</td>\n",
              "      <td>Athletics Women's Shot Put</td>\n",
              "      <td>NaN</td>\n",
              "    </tr>\n",
              "    <tr>\n",
              "      <th>268753</th>\n",
              "      <td>134454</td>\n",
              "      <td>Zhang Guirong</td>\n",
              "      <td>F</td>\n",
              "      <td>30</td>\n",
              "      <td>182</td>\n",
              "      <td>95</td>\n",
              "      <td>Singapore</td>\n",
              "      <td>NaN</td>\n",
              "      <td>2008 Summer</td>\n",
              "      <td>2008</td>\n",
              "      <td>Summer</td>\n",
              "      <td>Beijing</td>\n",
              "      <td>Athletics</td>\n",
              "      <td>Athletics Women's Shot Put</td>\n",
              "      <td>NaN</td>\n",
              "    </tr>\n",
              "    <tr>\n",
              "      <th>268993</th>\n",
              "      <td>134587</td>\n",
              "      <td>Zhang Xueling</td>\n",
              "      <td>F</td>\n",
              "      <td>21</td>\n",
              "      <td>163</td>\n",
              "      <td>53</td>\n",
              "      <td>Singapore</td>\n",
              "      <td>NaN</td>\n",
              "      <td>2004 Summer</td>\n",
              "      <td>2004</td>\n",
              "      <td>Summer</td>\n",
              "      <td>Athina</td>\n",
              "      <td>Table Tennis</td>\n",
              "      <td>Table Tennis Women's Singles</td>\n",
              "      <td>NaN</td>\n",
              "    </tr>\n",
              "    <tr>\n",
              "      <th>268994</th>\n",
              "      <td>134587</td>\n",
              "      <td>Zhang Xueling</td>\n",
              "      <td>F</td>\n",
              "      <td>21</td>\n",
              "      <td>163</td>\n",
              "      <td>53</td>\n",
              "      <td>Singapore-1</td>\n",
              "      <td>NaN</td>\n",
              "      <td>2004 Summer</td>\n",
              "      <td>2004</td>\n",
              "      <td>Summer</td>\n",
              "      <td>Athina</td>\n",
              "      <td>Table Tennis</td>\n",
              "      <td>Table Tennis Women's Doubles</td>\n",
              "      <td>NaN</td>\n",
              "    </tr>\n",
              "    <tr>\n",
              "      <th>269455</th>\n",
              "      <td>134826</td>\n",
              "      <td>Zhou Yihan</td>\n",
              "      <td>F</td>\n",
              "      <td>22</td>\n",
              "      <td>168</td>\n",
              "      <td>54</td>\n",
              "      <td>Singapore</td>\n",
              "      <td>NaN</td>\n",
              "      <td>2016 Summer</td>\n",
              "      <td>2016</td>\n",
              "      <td>Summer</td>\n",
              "      <td>Rio de Janeiro</td>\n",
              "      <td>Table Tennis</td>\n",
              "      <td>Table Tennis Women's Team</td>\n",
              "      <td>NaN</td>\n",
              "    </tr>\n",
              "  </tbody>\n",
              "</table>\n",
              "<p>370 rows × 15 columns</p>\n",
              "</div>"
            ],
            "text/plain": [
              "            ID  ... Medal\n",
              "578        332  ...   NaN\n",
              "579        332  ...   NaN\n",
              "2719      1515  ...   NaN\n",
              "6267      3515  ...   NaN\n",
              "7659      4264  ...   NaN\n",
              "...        ...  ...   ...\n",
              "268752  134454  ...   NaN\n",
              "268753  134454  ...   NaN\n",
              "268993  134587  ...   NaN\n",
              "268994  134587  ...   NaN\n",
              "269455  134826  ...   NaN\n",
              "\n",
              "[370 rows x 15 columns]"
            ]
          },
          "metadata": {},
          "execution_count": 63
        }
      ]
    },
    {
      "cell_type": "code",
      "metadata": {
        "id": "dHVh3gpDNJlY"
      },
      "source": [
        "ath.Region.fillna('Singapore', inplace=True)"
      ],
      "execution_count": null,
      "outputs": []
    },
    {
      "cell_type": "code",
      "metadata": {
        "colab": {
          "base_uri": "https://localhost:8080/"
        },
        "id": "kQLRm7zrNJr2",
        "outputId": "c3a6ca37-8e34-40d5-d82f-0e0d1f5d451a"
      },
      "source": [
        "for i in ath[ath.Region.isnull()]['Team']:\n",
        "  print(i)"
      ],
      "execution_count": null,
      "outputs": [
        {
          "output_type": "stream",
          "name": "stdout",
          "text": [
            "Singapore\n",
            "Singapore\n",
            "Singapore\n",
            "Refugee Olympic Athletes\n",
            "Singapore\n",
            "Singapore\n",
            "Singapore\n",
            "Singapore\n",
            "Singapore\n",
            "Singapore\n",
            "Singapore\n",
            "Singapore\n",
            "Singapore\n",
            "Refugee Olympic Athletes\n",
            "Refugee Olympic Athletes\n",
            "Refugee Olympic Athletes\n",
            "Singapore\n",
            "Singapore\n",
            "Singapore\n",
            "Singapore\n",
            "Refugee Olympic Athletes\n",
            "Singapore\n",
            "Singapore\n",
            "Singapore\n",
            "Singapore\n",
            "Singapore\n",
            "Singapore\n",
            "Singapore\n",
            "Singapore\n",
            "Singapore\n",
            "Singapore\n",
            "Singapore\n",
            "Singapore\n",
            "Singapore\n",
            "Singapore\n",
            "Singapore\n",
            "Singapore\n",
            "Singapore\n",
            "Singapore\n",
            "Singapore\n",
            "Singapore\n",
            "Singapore\n",
            "Refugee Olympic Athletes\n",
            "Singapore\n",
            "Singapore\n",
            "Singapore\n",
            "Singapore\n",
            "June Climene\n",
            "Singapore\n",
            "Singapore\n",
            "Singapore\n",
            "Singapore\n",
            "Singapore\n",
            "June Climene\n",
            "Unknown\n",
            "Tuvalu\n",
            "Singapore\n",
            "Singapore\n",
            "Singapore\n",
            "Singapore\n",
            "Singapore\n",
            "Singapore\n",
            "Singapore\n",
            "Singapore\n",
            "Singapore\n",
            "Singapore\n",
            "Singapore\n",
            "Singapore\n",
            "Singapore\n",
            "Singapore\n",
            "Rika II\n",
            "Singapore\n",
            "Singapore\n",
            "Singapore\n",
            "Singapore\n",
            "Singapore\n",
            "Singapore\n",
            "Rika II\n",
            "Singapore\n",
            "Rika II\n",
            "June Climene\n",
            "Singapore\n",
            "Singapore\n",
            "Singapore\n",
            "Singapore\n",
            "Singapore\n",
            "Singapore\n",
            "Singapore\n",
            "Singapore\n",
            "Singapore-2\n",
            "Rika II\n",
            "Singapore\n",
            "Singapore\n",
            "Singapore\n",
            "Singapore\n",
            "Singapore\n",
            "Refugee Olympic Athletes\n",
            "Singapore\n",
            "Singapore\n",
            "Singapore\n",
            "Singapore\n",
            "Singapore\n",
            "Singapore\n",
            "Singapore\n",
            "Singapore\n",
            "Singapore\n",
            "Singapore\n",
            "Singapore\n",
            "Singapore\n",
            "Singapore\n",
            "Singapore\n",
            "Singapore\n",
            "Singapore\n",
            "Singapore\n",
            "Singapore\n",
            "Singapore\n",
            "Singapore\n",
            "Singapore\n",
            "Singapore\n",
            "Singapore\n",
            "Singapore\n",
            "Singapore\n",
            "Singapore\n",
            "Singapore\n",
            "Singapore\n",
            "Singapore\n",
            "Singapore\n",
            "Singapore\n",
            "Unknown\n",
            "Tuvalu\n",
            "Singapore\n",
            "Singapore\n",
            "Singapore\n",
            "Singapore\n",
            "Singapore\n",
            "Singapore\n",
            "Singapore\n",
            "Singapore\n",
            "Singapore\n",
            "Singapore\n",
            "Singapore\n",
            "Singapore-2\n",
            "Singapore\n",
            "Singapore\n",
            "Singapore\n",
            "Singapore\n",
            "Singapore\n",
            "Singapore\n",
            "Singapore\n",
            "Singapore\n",
            "Singapore\n",
            "Singapore\n",
            "Singapore\n",
            "Singapore\n",
            "Singapore\n",
            "Singapore\n",
            "Singapore\n",
            "Singapore\n",
            "Singapore\n",
            "Singapore\n",
            "Singapore\n",
            "Singapore\n",
            "Singapore\n",
            "Singapore\n",
            "Singapore\n",
            "Singapore\n",
            "Singapore\n",
            "Singapore\n",
            "Singapore\n",
            "Singapore\n",
            "Singapore\n",
            "Singapore\n",
            "Singapore\n",
            "Singapore\n",
            "Refugee Olympic Athletes\n",
            "Refugee Olympic Athletes\n",
            "Tuvalu\n",
            "Tuvalu\n",
            "Refugee Olympic Athletes\n",
            "Refugee Olympic Athletes\n",
            "Refugee Olympic Athletes\n",
            "Singapore\n",
            "Singapore\n",
            "Singapore\n",
            "Singapore\n",
            "Singapore\n",
            "Singapore\n",
            "Singapore\n",
            "Singapore\n",
            "Singapore\n",
            "Tuvalu\n",
            "Singapore\n",
            "Singapore\n",
            "Singapore\n",
            "Singapore\n",
            "Singapore\n",
            "Singapore\n",
            "Singapore\n",
            "Singapore\n",
            "Singapore\n",
            "Singapore\n",
            "Singapore\n",
            "Singapore\n",
            "Singapore\n",
            "Singapore\n",
            "Singapore\n",
            "Singapore\n",
            "Singapore\n",
            "Singapore\n",
            "Singapore\n",
            "Singapore\n",
            "Singapore\n",
            "Singapore\n",
            "Singapore\n",
            "Singapore\n",
            "Singapore\n",
            "Singapore\n",
            "Singapore\n",
            "Singapore\n",
            "Singapore\n",
            "Singapore\n",
            "Singapore\n",
            "Singapore\n",
            "Singapore\n",
            "Singapore\n",
            "Singapore\n",
            "Singapore\n",
            "Singapore\n",
            "Singapore\n",
            "Singapore\n",
            "Singapore\n",
            "Singapore\n",
            "Singapore\n",
            "Singapore\n",
            "Singapore\n",
            "Singapore\n",
            "Singapore\n",
            "Singapore\n",
            "Singapore\n",
            "Singapore\n",
            "Singapore\n",
            "Singapore\n",
            "Singapore\n",
            "Singapore\n",
            "Singapore\n",
            "Singapore\n",
            "Singapore\n",
            "Singapore\n",
            "Singapore\n",
            "Singapore\n",
            "Singapore\n",
            "Singapore\n",
            "Singapore\n",
            "Singapore\n",
            "Singapore\n",
            "Singapore\n",
            "Singapore\n",
            "Singapore\n",
            "Singapore\n",
            "Singapore\n",
            "Singapore\n",
            "Singapore\n",
            "Singapore\n",
            "Singapore\n",
            "Singapore\n",
            "Singapore\n",
            "Singapore\n",
            "Singapore\n",
            "Singapore\n",
            "Singapore\n",
            "Singapore\n",
            "Singapore-1\n",
            "Singapore\n",
            "Singapore\n",
            "Singapore\n",
            "Singapore\n",
            "Singapore\n",
            "Singapore\n",
            "Singapore\n",
            "Singapore\n",
            "Singapore\n",
            "Singapore\n",
            "Singapore\n",
            "Singapore\n",
            "Singapore\n",
            "Singapore\n",
            "Singapore\n",
            "Singapore\n",
            "Singapore\n",
            "Singapore\n",
            "Singapore\n",
            "Singapore\n",
            "Singapore\n",
            "Singapore\n",
            "Singapore\n",
            "Singapore\n",
            "Singapore\n",
            "Singapore\n",
            "Singapore\n",
            "Tuvalu\n",
            "Tuvalu\n",
            "Singapore\n",
            "Singapore\n",
            "Singapore\n",
            "Singapore\n",
            "Singapore\n",
            "Singapore\n",
            "Singapore\n",
            "Singapore\n",
            "Singapore\n",
            "Singapore\n",
            "Singapore\n",
            "Singapore\n",
            "Singapore\n",
            "Singapore\n",
            "Singapore\n",
            "Singapore\n",
            "Singapore\n",
            "Singapore\n",
            "Singapore\n",
            "Singapore\n",
            "Singapore\n",
            "Singapore\n",
            "Singapore\n",
            "Singapore\n",
            "Singapore\n",
            "Singapore\n",
            "Singapore\n",
            "Singapore\n",
            "Singapore\n",
            "Singapore\n",
            "Singapore\n",
            "Singapore\n",
            "Singapore\n",
            "Singapore\n",
            "Singapore\n",
            "Singapore\n",
            "Singapore\n",
            "Singapore\n",
            "Singapore\n",
            "Singapore\n",
            "Singapore\n",
            "Singapore\n",
            "Singapore\n",
            "Singapore\n",
            "Singapore\n",
            "Singapore\n",
            "Singapore\n",
            "Singapore\n",
            "Singapore\n",
            "Singapore\n",
            "Singapore\n",
            "Singapore\n",
            "Singapore\n",
            "Singapore\n",
            "Singapore\n",
            "Singapore\n",
            "Singapore\n",
            "Singapore\n",
            "Singapore\n",
            "Singapore\n",
            "Singapore\n",
            "Singapore\n",
            "Singapore\n",
            "Singapore\n",
            "Singapore\n",
            "Singapore\n",
            "Singapore\n",
            "Singapore-1\n",
            "Singapore\n"
          ]
        }
      ]
    },
    {
      "cell_type": "markdown",
      "metadata": {
        "id": "Ap40LHhZgpEg"
      },
      "source": [
        "Handling the Null Values in the column \"Medals\""
      ]
    },
    {
      "cell_type": "code",
      "metadata": {
        "colab": {
          "base_uri": "https://localhost:8080/",
          "height": 452
        },
        "id": "xo1hWQC0NJxm",
        "outputId": "1c692b5e-9286-4661-ffb1-22af57cc7b1e"
      },
      "source": [
        "ath.head()"
      ],
      "execution_count": null,
      "outputs": [
        {
          "output_type": "execute_result",
          "data": {
            "text/html": [
              "<div>\n",
              "<style scoped>\n",
              "    .dataframe tbody tr th:only-of-type {\n",
              "        vertical-align: middle;\n",
              "    }\n",
              "\n",
              "    .dataframe tbody tr th {\n",
              "        vertical-align: top;\n",
              "    }\n",
              "\n",
              "    .dataframe thead th {\n",
              "        text-align: right;\n",
              "    }\n",
              "</style>\n",
              "<table border=\"1\" class=\"dataframe\">\n",
              "  <thead>\n",
              "    <tr style=\"text-align: right;\">\n",
              "      <th></th>\n",
              "      <th>ID</th>\n",
              "      <th>Name</th>\n",
              "      <th>Gender</th>\n",
              "      <th>Age</th>\n",
              "      <th>Height</th>\n",
              "      <th>Weight</th>\n",
              "      <th>Team</th>\n",
              "      <th>Region</th>\n",
              "      <th>Games</th>\n",
              "      <th>Year</th>\n",
              "      <th>Season</th>\n",
              "      <th>City</th>\n",
              "      <th>Sport</th>\n",
              "      <th>Event</th>\n",
              "      <th>Medal</th>\n",
              "    </tr>\n",
              "  </thead>\n",
              "  <tbody>\n",
              "    <tr>\n",
              "      <th>0</th>\n",
              "      <td>1</td>\n",
              "      <td>A Dijiang</td>\n",
              "      <td>M</td>\n",
              "      <td>24</td>\n",
              "      <td>180</td>\n",
              "      <td>80</td>\n",
              "      <td>China</td>\n",
              "      <td>China</td>\n",
              "      <td>1992 Summer</td>\n",
              "      <td>1992</td>\n",
              "      <td>Summer</td>\n",
              "      <td>Barcelona</td>\n",
              "      <td>Basketball</td>\n",
              "      <td>Basketball Men's Basketball</td>\n",
              "      <td>NaN</td>\n",
              "    </tr>\n",
              "    <tr>\n",
              "      <th>1</th>\n",
              "      <td>2</td>\n",
              "      <td>A Lamusi</td>\n",
              "      <td>M</td>\n",
              "      <td>23</td>\n",
              "      <td>170</td>\n",
              "      <td>60</td>\n",
              "      <td>China</td>\n",
              "      <td>China</td>\n",
              "      <td>2012 Summer</td>\n",
              "      <td>2012</td>\n",
              "      <td>Summer</td>\n",
              "      <td>London</td>\n",
              "      <td>Judo</td>\n",
              "      <td>Judo Men's Extra-Lightweight</td>\n",
              "      <td>NaN</td>\n",
              "    </tr>\n",
              "    <tr>\n",
              "      <th>2</th>\n",
              "      <td>3</td>\n",
              "      <td>Gunnar Nielsen Aaby</td>\n",
              "      <td>M</td>\n",
              "      <td>24</td>\n",
              "      <td>175</td>\n",
              "      <td>70</td>\n",
              "      <td>Denmark</td>\n",
              "      <td>Denmark</td>\n",
              "      <td>1920 Summer</td>\n",
              "      <td>1920</td>\n",
              "      <td>Summer</td>\n",
              "      <td>Antwerpen</td>\n",
              "      <td>Football</td>\n",
              "      <td>Football Men's Football</td>\n",
              "      <td>NaN</td>\n",
              "    </tr>\n",
              "    <tr>\n",
              "      <th>3</th>\n",
              "      <td>4</td>\n",
              "      <td>Edgar Lindenau Aabye</td>\n",
              "      <td>M</td>\n",
              "      <td>34</td>\n",
              "      <td>175</td>\n",
              "      <td>70</td>\n",
              "      <td>Denmark/Sweden</td>\n",
              "      <td>Denmark</td>\n",
              "      <td>1900 Summer</td>\n",
              "      <td>1900</td>\n",
              "      <td>Summer</td>\n",
              "      <td>Paris</td>\n",
              "      <td>Tug-Of-War</td>\n",
              "      <td>Tug-Of-War Men's Tug-Of-War</td>\n",
              "      <td>Gold</td>\n",
              "    </tr>\n",
              "    <tr>\n",
              "      <th>4</th>\n",
              "      <td>5</td>\n",
              "      <td>Christine Jacoba Aaftink</td>\n",
              "      <td>F</td>\n",
              "      <td>21</td>\n",
              "      <td>185</td>\n",
              "      <td>82</td>\n",
              "      <td>Netherlands</td>\n",
              "      <td>Netherlands</td>\n",
              "      <td>1988 Winter</td>\n",
              "      <td>1988</td>\n",
              "      <td>Winter</td>\n",
              "      <td>Calgary</td>\n",
              "      <td>Speed Skating</td>\n",
              "      <td>Speed Skating Women's 500 metres</td>\n",
              "      <td>NaN</td>\n",
              "    </tr>\n",
              "  </tbody>\n",
              "</table>\n",
              "</div>"
            ],
            "text/plain": [
              "   ID                      Name  ...                             Event  Medal\n",
              "0   1                 A Dijiang  ...       Basketball Men's Basketball    NaN\n",
              "1   2                  A Lamusi  ...      Judo Men's Extra-Lightweight    NaN\n",
              "2   3       Gunnar Nielsen Aaby  ...           Football Men's Football    NaN\n",
              "3   4      Edgar Lindenau Aabye  ...       Tug-Of-War Men's Tug-Of-War   Gold\n",
              "4   5  Christine Jacoba Aaftink  ...  Speed Skating Women's 500 metres    NaN\n",
              "\n",
              "[5 rows x 15 columns]"
            ]
          },
          "metadata": {},
          "execution_count": 71
        }
      ]
    },
    {
      "cell_type": "code",
      "metadata": {
        "colab": {
          "base_uri": "https://localhost:8080/"
        },
        "id": "ekO0RMyJNJ6w",
        "outputId": "2cad4f46-3a70-4641-d1e8-dbcf9f08f3d5"
      },
      "source": [
        "ath.Medal.unique()"
      ],
      "execution_count": null,
      "outputs": [
        {
          "output_type": "execute_result",
          "data": {
            "text/plain": [
              "array([nan, 'Gold', 'Bronze', 'Silver'], dtype=object)"
            ]
          },
          "metadata": {},
          "execution_count": 72
        }
      ]
    },
    {
      "cell_type": "code",
      "metadata": {
        "colab": {
          "base_uri": "https://localhost:8080/"
        },
        "id": "Nyd5IvW4NKC7",
        "outputId": "cfa56efe-e345-4768-f879-74abdee1d6eb"
      },
      "source": [
        "ath.Medal.nunique()"
      ],
      "execution_count": null,
      "outputs": [
        {
          "output_type": "execute_result",
          "data": {
            "text/plain": [
              "3"
            ]
          },
          "metadata": {},
          "execution_count": 73
        }
      ]
    },
    {
      "cell_type": "code",
      "metadata": {
        "colab": {
          "base_uri": "https://localhost:8080/"
        },
        "id": "s001OqZ7NKHl",
        "outputId": "9c158a64-189d-4533-bfe1-c20f18d77338"
      },
      "source": [
        "ath.Medal.value_counts()"
      ],
      "execution_count": null,
      "outputs": [
        {
          "output_type": "execute_result",
          "data": {
            "text/plain": [
              "Gold      13372\n",
              "Bronze    13295\n",
              "Silver    13116\n",
              "Name: Medal, dtype: int64"
            ]
          },
          "metadata": {},
          "execution_count": 74
        }
      ]
    },
    {
      "cell_type": "code",
      "metadata": {
        "id": "vmQpLkVQNKLE"
      },
      "source": [
        "# Replace\n",
        "# NaN -> 0\n",
        "# Gold -> 1\n",
        "# Silver -> 2\n",
        "# Bronze -> 3"
      ],
      "execution_count": null,
      "outputs": []
    },
    {
      "cell_type": "code",
      "metadata": {
        "id": "XdyloU6BNKMg"
      },
      "source": [
        "ath.Medal = ath.Medal.replace([np.nan, 'Gold', 'Silver', 'Bronze'],[0, 1, 2, 3])"
      ],
      "execution_count": null,
      "outputs": []
    },
    {
      "cell_type": "code",
      "metadata": {
        "colab": {
          "base_uri": "https://localhost:8080/"
        },
        "id": "3ET46zk_NKYA",
        "outputId": "8d6f2155-1792-4f3e-b9b0-51e3f4ac0dec"
      },
      "source": [
        "ath.Medal"
      ],
      "execution_count": null,
      "outputs": [
        {
          "output_type": "execute_result",
          "data": {
            "text/plain": [
              "0         0\n",
              "1         0\n",
              "2         0\n",
              "3         1\n",
              "4         0\n",
              "         ..\n",
              "271111    0\n",
              "271112    0\n",
              "271113    0\n",
              "271114    0\n",
              "271115    0\n",
              "Name: Medal, Length: 271116, dtype: int64"
            ]
          },
          "metadata": {},
          "execution_count": 79
        }
      ]
    },
    {
      "cell_type": "code",
      "metadata": {
        "colab": {
          "base_uri": "https://localhost:8080/"
        },
        "id": "Mq-kdJQKNKaw",
        "outputId": "84b3b61d-994c-450e-f005-4695fc0f761a"
      },
      "source": [
        "ath.Medal.value_counts()"
      ],
      "execution_count": null,
      "outputs": [
        {
          "output_type": "execute_result",
          "data": {
            "text/plain": [
              "0    231333\n",
              "1     13372\n",
              "3     13295\n",
              "2     13116\n",
              "Name: Medal, dtype: int64"
            ]
          },
          "metadata": {},
          "execution_count": 80
        }
      ]
    },
    {
      "cell_type": "code",
      "metadata": {
        "colab": {
          "base_uri": "https://localhost:8080/"
        },
        "id": "O8PdLyJ0NKcq",
        "outputId": "499a8b2a-bfbd-41ad-fd31-d64b87dcca8e"
      },
      "source": [
        "ath.info()"
      ],
      "execution_count": null,
      "outputs": [
        {
          "output_type": "stream",
          "name": "stdout",
          "text": [
            "<class 'pandas.core.frame.DataFrame'>\n",
            "RangeIndex: 271116 entries, 0 to 271115\n",
            "Data columns (total 15 columns):\n",
            " #   Column  Non-Null Count   Dtype \n",
            "---  ------  --------------   ----- \n",
            " 0   ID      271116 non-null  int64 \n",
            " 1   Name    271116 non-null  object\n",
            " 2   Gender  271116 non-null  object\n",
            " 3   Age     271116 non-null  int64 \n",
            " 4   Height  271116 non-null  int64 \n",
            " 5   Weight  271116 non-null  int64 \n",
            " 6   Team    271116 non-null  object\n",
            " 7   Region  271116 non-null  object\n",
            " 8   Games   271116 non-null  object\n",
            " 9   Year    271116 non-null  int64 \n",
            " 10  Season  271116 non-null  object\n",
            " 11  City    271116 non-null  object\n",
            " 12  Sport   271116 non-null  object\n",
            " 13  Event   271116 non-null  object\n",
            " 14  Medal   271116 non-null  int64 \n",
            "dtypes: int64(6), object(9)\n",
            "memory usage: 31.0+ MB\n"
          ]
        }
      ]
    },
    {
      "cell_type": "code",
      "metadata": {
        "colab": {
          "base_uri": "https://localhost:8080/"
        },
        "id": "AY7jL-EjNKgI",
        "outputId": "9394b023-0e92-410b-9c96-5ee73d49f89a"
      },
      "source": [
        "ath.isnull().sum()"
      ],
      "execution_count": null,
      "outputs": [
        {
          "output_type": "execute_result",
          "data": {
            "text/plain": [
              "ID        0\n",
              "Name      0\n",
              "Gender    0\n",
              "Age       0\n",
              "Height    0\n",
              "Weight    0\n",
              "Team      0\n",
              "Region    0\n",
              "Games     0\n",
              "Year      0\n",
              "Season    0\n",
              "City      0\n",
              "Sport     0\n",
              "Event     0\n",
              "Medal     0\n",
              "dtype: int64"
            ]
          },
          "metadata": {},
          "execution_count": 82
        }
      ]
    },
    {
      "cell_type": "markdown",
      "metadata": {
        "id": "emkA3P1ojKB7"
      },
      "source": [
        "Delete some unwanted/irrelavant columns"
      ]
    },
    {
      "cell_type": "code",
      "metadata": {
        "colab": {
          "base_uri": "https://localhost:8080/",
          "height": 219
        },
        "id": "qrb12s5yNKhh",
        "outputId": "35b3c164-805f-4a2f-a017-eada2ff18309"
      },
      "source": [
        "ath.head(2)"
      ],
      "execution_count": null,
      "outputs": [
        {
          "output_type": "execute_result",
          "data": {
            "text/html": [
              "<div>\n",
              "<style scoped>\n",
              "    .dataframe tbody tr th:only-of-type {\n",
              "        vertical-align: middle;\n",
              "    }\n",
              "\n",
              "    .dataframe tbody tr th {\n",
              "        vertical-align: top;\n",
              "    }\n",
              "\n",
              "    .dataframe thead th {\n",
              "        text-align: right;\n",
              "    }\n",
              "</style>\n",
              "<table border=\"1\" class=\"dataframe\">\n",
              "  <thead>\n",
              "    <tr style=\"text-align: right;\">\n",
              "      <th></th>\n",
              "      <th>ID</th>\n",
              "      <th>Name</th>\n",
              "      <th>Gender</th>\n",
              "      <th>Age</th>\n",
              "      <th>Height</th>\n",
              "      <th>Weight</th>\n",
              "      <th>Team</th>\n",
              "      <th>Region</th>\n",
              "      <th>Games</th>\n",
              "      <th>Year</th>\n",
              "      <th>Season</th>\n",
              "      <th>City</th>\n",
              "      <th>Sport</th>\n",
              "      <th>Event</th>\n",
              "      <th>Medal</th>\n",
              "    </tr>\n",
              "  </thead>\n",
              "  <tbody>\n",
              "    <tr>\n",
              "      <th>0</th>\n",
              "      <td>1</td>\n",
              "      <td>A Dijiang</td>\n",
              "      <td>M</td>\n",
              "      <td>24</td>\n",
              "      <td>180</td>\n",
              "      <td>80</td>\n",
              "      <td>China</td>\n",
              "      <td>China</td>\n",
              "      <td>1992 Summer</td>\n",
              "      <td>1992</td>\n",
              "      <td>Summer</td>\n",
              "      <td>Barcelona</td>\n",
              "      <td>Basketball</td>\n",
              "      <td>Basketball Men's Basketball</td>\n",
              "      <td>0</td>\n",
              "    </tr>\n",
              "    <tr>\n",
              "      <th>1</th>\n",
              "      <td>2</td>\n",
              "      <td>A Lamusi</td>\n",
              "      <td>M</td>\n",
              "      <td>23</td>\n",
              "      <td>170</td>\n",
              "      <td>60</td>\n",
              "      <td>China</td>\n",
              "      <td>China</td>\n",
              "      <td>2012 Summer</td>\n",
              "      <td>2012</td>\n",
              "      <td>Summer</td>\n",
              "      <td>London</td>\n",
              "      <td>Judo</td>\n",
              "      <td>Judo Men's Extra-Lightweight</td>\n",
              "      <td>0</td>\n",
              "    </tr>\n",
              "  </tbody>\n",
              "</table>\n",
              "</div>"
            ],
            "text/plain": [
              "   ID       Name Gender  ...       Sport                         Event  Medal\n",
              "0   1  A Dijiang      M  ...  Basketball   Basketball Men's Basketball      0\n",
              "1   2   A Lamusi      M  ...        Judo  Judo Men's Extra-Lightweight      0\n",
              "\n",
              "[2 rows x 15 columns]"
            ]
          },
          "metadata": {},
          "execution_count": 85
        }
      ]
    },
    {
      "cell_type": "code",
      "metadata": {
        "id": "UIENFTKgNKko"
      },
      "source": [
        "# Delete the columns - ID, Region, Games\n",
        "ath.drop(['ID', 'Region', 'Games'], axis=1, inplace=True)"
      ],
      "execution_count": null,
      "outputs": []
    },
    {
      "cell_type": "markdown",
      "metadata": {
        "id": "QbDw14s1mHz7"
      },
      "source": [
        "Remove the unwanted phrases from the \"Event' column"
      ]
    },
    {
      "cell_type": "code",
      "metadata": {
        "colab": {
          "base_uri": "https://localhost:8080/",
          "height": 219
        },
        "id": "vwEJEyo3NKpR",
        "outputId": "add34a53-e86a-4cca-e592-f998160b44bb"
      },
      "source": [
        "ath.head(2)"
      ],
      "execution_count": null,
      "outputs": [
        {
          "output_type": "execute_result",
          "data": {
            "text/html": [
              "<div>\n",
              "<style scoped>\n",
              "    .dataframe tbody tr th:only-of-type {\n",
              "        vertical-align: middle;\n",
              "    }\n",
              "\n",
              "    .dataframe tbody tr th {\n",
              "        vertical-align: top;\n",
              "    }\n",
              "\n",
              "    .dataframe thead th {\n",
              "        text-align: right;\n",
              "    }\n",
              "</style>\n",
              "<table border=\"1\" class=\"dataframe\">\n",
              "  <thead>\n",
              "    <tr style=\"text-align: right;\">\n",
              "      <th></th>\n",
              "      <th>Name</th>\n",
              "      <th>Gender</th>\n",
              "      <th>Age</th>\n",
              "      <th>Height</th>\n",
              "      <th>Weight</th>\n",
              "      <th>Team</th>\n",
              "      <th>Year</th>\n",
              "      <th>Season</th>\n",
              "      <th>City</th>\n",
              "      <th>Sport</th>\n",
              "      <th>Event</th>\n",
              "      <th>Medal</th>\n",
              "    </tr>\n",
              "  </thead>\n",
              "  <tbody>\n",
              "    <tr>\n",
              "      <th>0</th>\n",
              "      <td>A Dijiang</td>\n",
              "      <td>M</td>\n",
              "      <td>24</td>\n",
              "      <td>180</td>\n",
              "      <td>80</td>\n",
              "      <td>China</td>\n",
              "      <td>1992</td>\n",
              "      <td>Summer</td>\n",
              "      <td>Barcelona</td>\n",
              "      <td>Basketball</td>\n",
              "      <td>Basketball Men's Basketball</td>\n",
              "      <td>0</td>\n",
              "    </tr>\n",
              "    <tr>\n",
              "      <th>1</th>\n",
              "      <td>A Lamusi</td>\n",
              "      <td>M</td>\n",
              "      <td>23</td>\n",
              "      <td>170</td>\n",
              "      <td>60</td>\n",
              "      <td>China</td>\n",
              "      <td>2012</td>\n",
              "      <td>Summer</td>\n",
              "      <td>London</td>\n",
              "      <td>Judo</td>\n",
              "      <td>Judo Men's Extra-Lightweight</td>\n",
              "      <td>0</td>\n",
              "    </tr>\n",
              "  </tbody>\n",
              "</table>\n",
              "</div>"
            ],
            "text/plain": [
              "        Name Gender  Age  ...       Sport                         Event Medal\n",
              "0  A Dijiang      M   24  ...  Basketball   Basketball Men's Basketball     0\n",
              "1   A Lamusi      M   23  ...        Judo  Judo Men's Extra-Lightweight     0\n",
              "\n",
              "[2 rows x 12 columns]"
            ]
          },
          "metadata": {},
          "execution_count": 88
        }
      ]
    },
    {
      "cell_type": "code",
      "metadata": {
        "colab": {
          "base_uri": "https://localhost:8080/"
        },
        "id": "3q1yHi98oPos",
        "outputId": "0fbb3086-a8d8-4d7a-e500-614d66a12a85"
      },
      "source": [
        "for i,j in zip(ath.Sport, range(len(ath.Event))):\n",
        "  ath.Event[j] = re.sub(f'{i}\\s','',ath.Event[j])"
      ],
      "execution_count": null,
      "outputs": [
        {
          "output_type": "stream",
          "name": "stderr",
          "text": [
            "/usr/local/lib/python3.7/dist-packages/ipykernel_launcher.py:2: SettingWithCopyWarning: \n",
            "A value is trying to be set on a copy of a slice from a DataFrame\n",
            "\n",
            "See the caveats in the documentation: https://pandas.pydata.org/pandas-docs/stable/user_guide/indexing.html#returning-a-view-versus-a-copy\n",
            "  \n"
          ]
        }
      ]
    },
    {
      "cell_type": "code",
      "metadata": {
        "colab": {
          "base_uri": "https://localhost:8080/",
          "height": 250
        },
        "id": "qAyC8nwGNK3u",
        "outputId": "25182d79-5b47-4508-b58c-d60d619b06cd"
      },
      "source": [
        "ath.head(3)"
      ],
      "execution_count": null,
      "outputs": [
        {
          "output_type": "execute_result",
          "data": {
            "text/html": [
              "<div>\n",
              "<style scoped>\n",
              "    .dataframe tbody tr th:only-of-type {\n",
              "        vertical-align: middle;\n",
              "    }\n",
              "\n",
              "    .dataframe tbody tr th {\n",
              "        vertical-align: top;\n",
              "    }\n",
              "\n",
              "    .dataframe thead th {\n",
              "        text-align: right;\n",
              "    }\n",
              "</style>\n",
              "<table border=\"1\" class=\"dataframe\">\n",
              "  <thead>\n",
              "    <tr style=\"text-align: right;\">\n",
              "      <th></th>\n",
              "      <th>Name</th>\n",
              "      <th>Gender</th>\n",
              "      <th>Age</th>\n",
              "      <th>Height</th>\n",
              "      <th>Weight</th>\n",
              "      <th>Team</th>\n",
              "      <th>Year</th>\n",
              "      <th>Season</th>\n",
              "      <th>City</th>\n",
              "      <th>Sport</th>\n",
              "      <th>Event</th>\n",
              "      <th>Medal</th>\n",
              "    </tr>\n",
              "  </thead>\n",
              "  <tbody>\n",
              "    <tr>\n",
              "      <th>0</th>\n",
              "      <td>A Dijiang</td>\n",
              "      <td>M</td>\n",
              "      <td>24</td>\n",
              "      <td>180</td>\n",
              "      <td>80</td>\n",
              "      <td>China</td>\n",
              "      <td>1992</td>\n",
              "      <td>Summer</td>\n",
              "      <td>Barcelona</td>\n",
              "      <td>Basketball</td>\n",
              "      <td>Men's Basketball</td>\n",
              "      <td>0</td>\n",
              "    </tr>\n",
              "    <tr>\n",
              "      <th>1</th>\n",
              "      <td>A Lamusi</td>\n",
              "      <td>M</td>\n",
              "      <td>23</td>\n",
              "      <td>170</td>\n",
              "      <td>60</td>\n",
              "      <td>China</td>\n",
              "      <td>2012</td>\n",
              "      <td>Summer</td>\n",
              "      <td>London</td>\n",
              "      <td>Judo</td>\n",
              "      <td>Men's Extra-Lightweight</td>\n",
              "      <td>0</td>\n",
              "    </tr>\n",
              "    <tr>\n",
              "      <th>2</th>\n",
              "      <td>Gunnar Nielsen Aaby</td>\n",
              "      <td>M</td>\n",
              "      <td>24</td>\n",
              "      <td>175</td>\n",
              "      <td>70</td>\n",
              "      <td>Denmark</td>\n",
              "      <td>1920</td>\n",
              "      <td>Summer</td>\n",
              "      <td>Antwerpen</td>\n",
              "      <td>Football</td>\n",
              "      <td>Men's Football</td>\n",
              "      <td>0</td>\n",
              "    </tr>\n",
              "  </tbody>\n",
              "</table>\n",
              "</div>"
            ],
            "text/plain": [
              "                  Name Gender  Age  ...       Sport                    Event Medal\n",
              "0            A Dijiang      M   24  ...  Basketball         Men's Basketball     0\n",
              "1             A Lamusi      M   23  ...        Judo  Men's Extra-Lightweight     0\n",
              "2  Gunnar Nielsen Aaby      M   24  ...    Football           Men's Football     0\n",
              "\n",
              "[3 rows x 12 columns]"
            ]
          },
          "metadata": {},
          "execution_count": 98
        }
      ]
    },
    {
      "cell_type": "code",
      "metadata": {
        "colab": {
          "base_uri": "https://localhost:8080/"
        },
        "id": "m1yrNxIqNK6l",
        "outputId": "594eafdf-e246-4b68-c47b-596bd1426e25"
      },
      "source": [
        "ath.shape"
      ],
      "execution_count": null,
      "outputs": [
        {
          "output_type": "execute_result",
          "data": {
            "text/plain": [
              "(271116, 12)"
            ]
          },
          "metadata": {},
          "execution_count": 99
        }
      ]
    },
    {
      "cell_type": "code",
      "metadata": {
        "colab": {
          "base_uri": "https://localhost:8080/"
        },
        "id": "z3GJdQpNNK9c",
        "outputId": "0cb739e1-1b17-41e8-9e50-01a5a1136b9b"
      },
      "source": [
        "ath.info()"
      ],
      "execution_count": null,
      "outputs": [
        {
          "output_type": "stream",
          "name": "stdout",
          "text": [
            "<class 'pandas.core.frame.DataFrame'>\n",
            "RangeIndex: 271116 entries, 0 to 271115\n",
            "Data columns (total 12 columns):\n",
            " #   Column  Non-Null Count   Dtype \n",
            "---  ------  --------------   ----- \n",
            " 0   Name    271116 non-null  object\n",
            " 1   Gender  271116 non-null  object\n",
            " 2   Age     271116 non-null  int64 \n",
            " 3   Height  271116 non-null  int64 \n",
            " 4   Weight  271116 non-null  int64 \n",
            " 5   Team    271116 non-null  object\n",
            " 6   Year    271116 non-null  int64 \n",
            " 7   Season  271116 non-null  object\n",
            " 8   City    271116 non-null  object\n",
            " 9   Sport   271116 non-null  object\n",
            " 10  Event   271116 non-null  object\n",
            " 11  Medal   271116 non-null  int64 \n",
            "dtypes: int64(5), object(7)\n",
            "memory usage: 24.8+ MB\n"
          ]
        }
      ]
    },
    {
      "cell_type": "markdown",
      "metadata": {
        "id": "us_nvvaKrooZ"
      },
      "source": [
        "# Exportation of the DataFrame"
      ]
    },
    {
      "cell_type": "code",
      "metadata": {
        "id": "yb0gYz4ONLCC"
      },
      "source": [
        "# Export to JSON\n",
        "ath.to_json('olympics_dataset.json')\n",
        "\n",
        "# Export to Excel\n",
        "ath.to_excel('olympics_dataset.xlsx')\n",
        "\n",
        "# Export to CSV\n",
        "ath.to_csv('olympics_dataset.csv')"
      ],
      "execution_count": null,
      "outputs": []
    },
    {
      "cell_type": "markdown",
      "metadata": {
        "id": "RCznU3sTsRgT"
      },
      "source": [
        "# Data Analysis"
      ]
    },
    {
      "cell_type": "markdown",
      "metadata": {
        "id": "LFdcFw78sU6Z"
      },
      "source": [
        "1. Show the relationship b/w Height and Weight"
      ]
    },
    {
      "cell_type": "code",
      "metadata": {
        "colab": {
          "base_uri": "https://localhost:8080/",
          "height": 313
        },
        "id": "qYxV8GLmNLHx",
        "outputId": "bbb44357-f7e7-49dd-90ce-1eb4eea3231d"
      },
      "source": [
        "plt.scatter(ath.Height, ath.Weight)\n",
        "plt.xlabel('Height')\n",
        "plt.ylabel('Weight')\n",
        "plt.title('Height Vs Weight')"
      ],
      "execution_count": null,
      "outputs": [
        {
          "output_type": "execute_result",
          "data": {
            "text/plain": [
              "Text(0.5, 1.0, 'Height Vs Weight')"
            ]
          },
          "metadata": {},
          "execution_count": 102
        },
        {
          "output_type": "display_data",
          "data": {
            "image/png": "[encoded data removed]",
            "text/plain": [
              "<Figure size 432x288 with 1 Axes>"
            ]
          },
          "metadata": {
            "needs_background": "light"
          }
        }
      ]
    },
    {
      "cell_type": "markdown",
      "metadata": {
        "id": "5UhZAFsAtLvZ"
      },
      "source": [
        "* Conclusion"
      ]
    },
    {
      "cell_type": "markdown",
      "metadata": {
        "id": "lYP7vLUItRtb"
      },
      "source": [
        "2. Find out how many Male and Female had participated in the Olympics w.r.t. the given dataset (Data Visualisation)"
      ]
    },
    {
      "cell_type": "code",
      "metadata": {
        "colab": {
          "base_uri": "https://localhost:8080/"
        },
        "id": "7QQpu2kNNLMX",
        "outputId": "9c7ecf1b-b376-4e61-ed23-5b67ecb2725c"
      },
      "source": [
        "ath.Gender.value_counts()"
      ],
      "execution_count": null,
      "outputs": [
        {
          "output_type": "execute_result",
          "data": {
            "text/plain": [
              "M    196594\n",
              "F     74522\n",
              "Name: Gender, dtype: int64"
            ]
          },
          "metadata": {},
          "execution_count": 103
        }
      ]
    },
    {
      "cell_type": "code",
      "metadata": {
        "colab": {
          "base_uri": "https://localhost:8080/",
          "height": 264
        },
        "id": "FMiMK3TpNLO_",
        "outputId": "38c93bf5-2268-4d5b-c5e7-fd79221ee238"
      },
      "source": [
        "ath.Gender.value_counts().plot.bar()\n",
        "plt.grid()"
      ],
      "execution_count": null,
      "outputs": [
        {
          "output_type": "display_data",
          "data": {
            "image/png": "[encoded data removed]",
            "text/plain": [
              "<Figure size 432x288 with 1 Axes>"
            ]
          },
          "metadata": {
            "needs_background": "light"
          }
        }
      ]
    },
    {
      "cell_type": "markdown",
      "metadata": {
        "id": "kKl0IXfeu49r"
      },
      "source": [
        "3. How many Male and Female have participated in the Summer and Winter Olympics"
      ]
    },
    {
      "cell_type": "code",
      "metadata": {
        "id": "TB4_0mTuNLWE"
      },
      "source": [
        ""
      ],
      "execution_count": null,
      "outputs": []
    },
    {
      "cell_type": "markdown",
      "metadata": {
        "id": "gN2CPSkbwMCg"
      },
      "source": [
        "4. Name the Top 5 countries who're having the most medals"
      ]
    },
    {
      "cell_type": "code",
      "metadata": {
        "id": "PRhUl2_HNLZC"
      },
      "source": [
        ""
      ],
      "execution_count": null,
      "outputs": []
    },
    {
      "cell_type": "markdown",
      "metadata": {
        "id": "hG7UoHMQxpDo"
      },
      "source": [
        "5. How many medals did the Female have won during the Summer Olympics."
      ]
    },
    {
      "cell_type": "code",
      "metadata": {
        "id": "XmPMIYnWNLbs"
      },
      "source": [
        ""
      ],
      "execution_count": null,
      "outputs": []
    },
    {
      "cell_type": "markdown",
      "metadata": {
        "id": "FFgnIFJqyhjM"
      },
      "source": [
        "6. Name all the cities where the 2012 Olympics was held."
      ]
    },
    {
      "cell_type": "code",
      "metadata": {
        "id": "isURLuLSNLjG"
      },
      "source": [
        ""
      ],
      "execution_count": null,
      "outputs": []
    },
    {
      "cell_type": "markdown",
      "metadata": {
        "id": "UAf7dlFtzP5w"
      },
      "source": [
        "7. Name all the Players who has participated in the game 'Judo'"
      ]
    },
    {
      "cell_type": "code",
      "metadata": {
        "id": "1BgRMMqrNLnP"
      },
      "source": [
        ""
      ],
      "execution_count": null,
      "outputs": []
    }
  ]
}